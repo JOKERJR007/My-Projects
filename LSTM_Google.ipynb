{
  "nbformat": 4,
  "nbformat_minor": 0,
  "metadata": {
    "colab": {
      "provenance": []
    },
    "kernelspec": {
      "name": "python3",
      "display_name": "Python 3"
    },
    "language_info": {
      "name": "python"
    }
  },
  "cells": [
    {
      "cell_type": "markdown",
      "source": [
        "Name: JOEL RAJU\n",
        "\n",
        "Batch: R1\n",
        "\n",
        "Date: 07-03-2023\n",
        "\n",
        "Experiment Name: 3.1 Forecasting Stock market Price : Google Stock Price Data\n",
        "\n",
        "Experiment Description: The experiment aims at designing a RNN model to predict the next week\n",
        "google stock price based on three week input data."
      ],
      "metadata": {
        "id": "OxnTTPG0oLV0"
      }
    },
    {
      "cell_type": "markdown",
      "source": [
        "Stock Price prediction for next 'n' days using LSTM"
      ],
      "metadata": {
        "id": "wA3FHPNN_oww"
      }
    },
    {
      "cell_type": "code",
      "execution_count": null,
      "metadata": {
        "id": "MwWrhcoa_fAf"
      },
      "outputs": [],
      "source": [
        "#Importing some libraries.\n",
        "import numpy as np\n",
        "import keras as ks\n",
        "import pandas as pd\n",
        "import matplotlib.pyplot as plt\n",
        "from sklearn.preprocessing import  MinMaxScaler"
      ]
    },
    {
      "cell_type": "markdown",
      "source": [
        "I am using the stock prices of another company \"Google\""
      ],
      "metadata": {
        "id": "VnNS5lzJDD09"
      }
    },
    {
      "cell_type": "code",
      "source": [
        "# Import google drive\n",
        "from google.colab import drive\n",
        "drive.mount('/content/gdrive/')"
      ],
      "metadata": {
        "colab": {
          "base_uri": "https://localhost:8080/"
        },
        "id": "RxUkbXL2eIpM",
        "outputId": "319d9e9b-82d4-4053-c1b1-5ce471333044"
      },
      "execution_count": null,
      "outputs": [
        {
          "output_type": "stream",
          "name": "stdout",
          "text": [
            "Mounted at /content/gdrive/\n"
          ]
        }
      ]
    },
    {
      "cell_type": "code",
      "source": [
        "Google_Data=pd.read_csv(\"/content/gdrive/MyDrive/DNN/Google_Stock_Price_Train[1].csv\")"
      ],
      "metadata": {
        "id": "9RnC_oyYeQBt"
      },
      "execution_count": null,
      "outputs": []
    },
    {
      "cell_type": "code",
      "source": [
        "type(Google_Data)"
      ],
      "metadata": {
        "colab": {
          "base_uri": "https://localhost:8080/"
        },
        "id": "XaYsJTT-DbXw",
        "outputId": "a152c858-c679-4a4f-da94-29afd7aea179"
      },
      "execution_count": null,
      "outputs": [
        {
          "output_type": "execute_result",
          "data": {
            "text/plain": [
              "pandas.core.frame.DataFrame"
            ]
          },
          "metadata": {},
          "execution_count": 4
        }
      ]
    },
    {
      "cell_type": "code",
      "source": [
        "Google_Data.head()"
      ],
      "metadata": {
        "colab": {
          "base_uri": "https://localhost:8080/",
          "height": 206
        },
        "id": "68SBIQn-DeeE",
        "outputId": "add2e9d8-e3a0-4562-f1fc-1db0bf4ff9bb"
      },
      "execution_count": null,
      "outputs": [
        {
          "output_type": "execute_result",
          "data": {
            "text/plain": [
              "         Date    Open    High     Low   Close      Volume\n",
              "0  01/03/2012  325.25  332.83  324.97  663.59   7,380,500\n",
              "1  01/04/2012  331.27  333.87  329.08  666.45   5,749,400\n",
              "2  01/05/2012  329.83  330.75  326.89  657.21   6,590,300\n",
              "3  01/06/2012  328.34  328.77  323.68  648.24   5,405,900\n",
              "4  01/09/2012  322.04  322.29  309.46  620.76  11,688,800"
            ],
            "text/html": [
              "\n",
              "  <div id=\"df-2123799a-c7f0-4a9b-b307-de3758c51fc8\">\n",
              "    <div class=\"colab-df-container\">\n",
              "      <div>\n",
              "<style scoped>\n",
              "    .dataframe tbody tr th:only-of-type {\n",
              "        vertical-align: middle;\n",
              "    }\n",
              "\n",
              "    .dataframe tbody tr th {\n",
              "        vertical-align: top;\n",
              "    }\n",
              "\n",
              "    .dataframe thead th {\n",
              "        text-align: right;\n",
              "    }\n",
              "</style>\n",
              "<table border=\"1\" class=\"dataframe\">\n",
              "  <thead>\n",
              "    <tr style=\"text-align: right;\">\n",
              "      <th></th>\n",
              "      <th>Date</th>\n",
              "      <th>Open</th>\n",
              "      <th>High</th>\n",
              "      <th>Low</th>\n",
              "      <th>Close</th>\n",
              "      <th>Volume</th>\n",
              "    </tr>\n",
              "  </thead>\n",
              "  <tbody>\n",
              "    <tr>\n",
              "      <th>0</th>\n",
              "      <td>01/03/2012</td>\n",
              "      <td>325.25</td>\n",
              "      <td>332.83</td>\n",
              "      <td>324.97</td>\n",
              "      <td>663.59</td>\n",
              "      <td>7,380,500</td>\n",
              "    </tr>\n",
              "    <tr>\n",
              "      <th>1</th>\n",
              "      <td>01/04/2012</td>\n",
              "      <td>331.27</td>\n",
              "      <td>333.87</td>\n",
              "      <td>329.08</td>\n",
              "      <td>666.45</td>\n",
              "      <td>5,749,400</td>\n",
              "    </tr>\n",
              "    <tr>\n",
              "      <th>2</th>\n",
              "      <td>01/05/2012</td>\n",
              "      <td>329.83</td>\n",
              "      <td>330.75</td>\n",
              "      <td>326.89</td>\n",
              "      <td>657.21</td>\n",
              "      <td>6,590,300</td>\n",
              "    </tr>\n",
              "    <tr>\n",
              "      <th>3</th>\n",
              "      <td>01/06/2012</td>\n",
              "      <td>328.34</td>\n",
              "      <td>328.77</td>\n",
              "      <td>323.68</td>\n",
              "      <td>648.24</td>\n",
              "      <td>5,405,900</td>\n",
              "    </tr>\n",
              "    <tr>\n",
              "      <th>4</th>\n",
              "      <td>01/09/2012</td>\n",
              "      <td>322.04</td>\n",
              "      <td>322.29</td>\n",
              "      <td>309.46</td>\n",
              "      <td>620.76</td>\n",
              "      <td>11,688,800</td>\n",
              "    </tr>\n",
              "  </tbody>\n",
              "</table>\n",
              "</div>\n",
              "      <button class=\"colab-df-convert\" onclick=\"convertToInteractive('df-2123799a-c7f0-4a9b-b307-de3758c51fc8')\"\n",
              "              title=\"Convert this dataframe to an interactive table.\"\n",
              "              style=\"display:none;\">\n",
              "        \n",
              "  <svg xmlns=\"http://www.w3.org/2000/svg\" height=\"24px\"viewBox=\"0 0 24 24\"\n",
              "       width=\"24px\">\n",
              "    <path d=\"M0 0h24v24H0V0z\" fill=\"none\"/>\n",
              "    <path d=\"M18.56 5.44l.94 2.06.94-2.06 2.06-.94-2.06-.94-.94-2.06-.94 2.06-2.06.94zm-11 1L8.5 8.5l.94-2.06 2.06-.94-2.06-.94L8.5 2.5l-.94 2.06-2.06.94zm10 10l.94 2.06.94-2.06 2.06-.94-2.06-.94-.94-2.06-.94 2.06-2.06.94z\"/><path d=\"M17.41 7.96l-1.37-1.37c-.4-.4-.92-.59-1.43-.59-.52 0-1.04.2-1.43.59L10.3 9.45l-7.72 7.72c-.78.78-.78 2.05 0 2.83L4 21.41c.39.39.9.59 1.41.59.51 0 1.02-.2 1.41-.59l7.78-7.78 2.81-2.81c.8-.78.8-2.07 0-2.86zM5.41 20L4 18.59l7.72-7.72 1.47 1.35L5.41 20z\"/>\n",
              "  </svg>\n",
              "      </button>\n",
              "      \n",
              "  <style>\n",
              "    .colab-df-container {\n",
              "      display:flex;\n",
              "      flex-wrap:wrap;\n",
              "      gap: 12px;\n",
              "    }\n",
              "\n",
              "    .colab-df-convert {\n",
              "      background-color: #E8F0FE;\n",
              "      border: none;\n",
              "      border-radius: 50%;\n",
              "      cursor: pointer;\n",
              "      display: none;\n",
              "      fill: #1967D2;\n",
              "      height: 32px;\n",
              "      padding: 0 0 0 0;\n",
              "      width: 32px;\n",
              "    }\n",
              "\n",
              "    .colab-df-convert:hover {\n",
              "      background-color: #E2EBFA;\n",
              "      box-shadow: 0px 1px 2px rgba(60, 64, 67, 0.3), 0px 1px 3px 1px rgba(60, 64, 67, 0.15);\n",
              "      fill: #174EA6;\n",
              "    }\n",
              "\n",
              "    [theme=dark] .colab-df-convert {\n",
              "      background-color: #3B4455;\n",
              "      fill: #D2E3FC;\n",
              "    }\n",
              "\n",
              "    [theme=dark] .colab-df-convert:hover {\n",
              "      background-color: #434B5C;\n",
              "      box-shadow: 0px 1px 3px 1px rgba(0, 0, 0, 0.15);\n",
              "      filter: drop-shadow(0px 1px 2px rgba(0, 0, 0, 0.3));\n",
              "      fill: #FFFFFF;\n",
              "    }\n",
              "  </style>\n",
              "\n",
              "      <script>\n",
              "        const buttonEl =\n",
              "          document.querySelector('#df-2123799a-c7f0-4a9b-b307-de3758c51fc8 button.colab-df-convert');\n",
              "        buttonEl.style.display =\n",
              "          google.colab.kernel.accessAllowed ? 'block' : 'none';\n",
              "\n",
              "        async function convertToInteractive(key) {\n",
              "          const element = document.querySelector('#df-2123799a-c7f0-4a9b-b307-de3758c51fc8');\n",
              "          const dataTable =\n",
              "            await google.colab.kernel.invokeFunction('convertToInteractive',\n",
              "                                                     [key], {});\n",
              "          if (!dataTable) return;\n",
              "\n",
              "          const docLinkHtml = 'Like what you see? Visit the ' +\n",
              "            '<a target=\"_blank\" href=https://colab.research.google.com/notebooks/data_table.ipynb>data table notebook</a>'\n",
              "            + ' to learn more about interactive tables.';\n",
              "          element.innerHTML = '';\n",
              "          dataTable['output_type'] = 'display_data';\n",
              "          await google.colab.output.renderOutput(dataTable, element);\n",
              "          const docLink = document.createElement('div');\n",
              "          docLink.innerHTML = docLinkHtml;\n",
              "          element.appendChild(docLink);\n",
              "        }\n",
              "      </script>\n",
              "    </div>\n",
              "  </div>\n",
              "  "
            ]
          },
          "metadata": {},
          "execution_count": 5
        }
      ]
    },
    {
      "cell_type": "code",
      "source": [
        "len(Google_Data)"
      ],
      "metadata": {
        "colab": {
          "base_uri": "https://localhost:8080/"
        },
        "id": "kkOBHlCCDhVf",
        "outputId": "c1615412-0339-49ef-e970-bd96ca34dfc5"
      },
      "execution_count": null,
      "outputs": [
        {
          "output_type": "execute_result",
          "data": {
            "text/plain": [
              "1509"
            ]
          },
          "metadata": {},
          "execution_count": 6
        }
      ]
    },
    {
      "cell_type": "code",
      "source": [
        "Google_Data.tail()"
      ],
      "metadata": {
        "colab": {
          "base_uri": "https://localhost:8080/",
          "height": 206
        },
        "id": "0-8GWf7KDkXI",
        "outputId": "e0cdefff-5570-42bc-8436-92be2d3263fd"
      },
      "execution_count": null,
      "outputs": [
        {
          "output_type": "execute_result",
          "data": {
            "text/plain": [
              "            Date         Open         High          Low        Close   Volume\n",
              "1504  22/12/2017  1061.109985  1064.199951  1059.439941  1060.119995   755100\n",
              "1505  26/12/2017  1058.069946  1060.119995  1050.199951   1056.73999   760600\n",
              "1506  27/12/2017  1057.390015  1058.369995  1048.050049  1049.369995  1271900\n",
              "1507  28/12/2017  1051.599976  1054.750000  1044.770020  1048.140015   837100\n",
              "1508  29/12/2017  1046.719971  1049.699951  1044.900024  1046.400024   887500"
            ],
            "text/html": [
              "\n",
              "  <div id=\"df-7c027cb1-8607-4fe7-a6bf-6f914b7d3392\">\n",
              "    <div class=\"colab-df-container\">\n",
              "      <div>\n",
              "<style scoped>\n",
              "    .dataframe tbody tr th:only-of-type {\n",
              "        vertical-align: middle;\n",
              "    }\n",
              "\n",
              "    .dataframe tbody tr th {\n",
              "        vertical-align: top;\n",
              "    }\n",
              "\n",
              "    .dataframe thead th {\n",
              "        text-align: right;\n",
              "    }\n",
              "</style>\n",
              "<table border=\"1\" class=\"dataframe\">\n",
              "  <thead>\n",
              "    <tr style=\"text-align: right;\">\n",
              "      <th></th>\n",
              "      <th>Date</th>\n",
              "      <th>Open</th>\n",
              "      <th>High</th>\n",
              "      <th>Low</th>\n",
              "      <th>Close</th>\n",
              "      <th>Volume</th>\n",
              "    </tr>\n",
              "  </thead>\n",
              "  <tbody>\n",
              "    <tr>\n",
              "      <th>1504</th>\n",
              "      <td>22/12/2017</td>\n",
              "      <td>1061.109985</td>\n",
              "      <td>1064.199951</td>\n",
              "      <td>1059.439941</td>\n",
              "      <td>1060.119995</td>\n",
              "      <td>755100</td>\n",
              "    </tr>\n",
              "    <tr>\n",
              "      <th>1505</th>\n",
              "      <td>26/12/2017</td>\n",
              "      <td>1058.069946</td>\n",
              "      <td>1060.119995</td>\n",
              "      <td>1050.199951</td>\n",
              "      <td>1056.73999</td>\n",
              "      <td>760600</td>\n",
              "    </tr>\n",
              "    <tr>\n",
              "      <th>1506</th>\n",
              "      <td>27/12/2017</td>\n",
              "      <td>1057.390015</td>\n",
              "      <td>1058.369995</td>\n",
              "      <td>1048.050049</td>\n",
              "      <td>1049.369995</td>\n",
              "      <td>1271900</td>\n",
              "    </tr>\n",
              "    <tr>\n",
              "      <th>1507</th>\n",
              "      <td>28/12/2017</td>\n",
              "      <td>1051.599976</td>\n",
              "      <td>1054.750000</td>\n",
              "      <td>1044.770020</td>\n",
              "      <td>1048.140015</td>\n",
              "      <td>837100</td>\n",
              "    </tr>\n",
              "    <tr>\n",
              "      <th>1508</th>\n",
              "      <td>29/12/2017</td>\n",
              "      <td>1046.719971</td>\n",
              "      <td>1049.699951</td>\n",
              "      <td>1044.900024</td>\n",
              "      <td>1046.400024</td>\n",
              "      <td>887500</td>\n",
              "    </tr>\n",
              "  </tbody>\n",
              "</table>\n",
              "</div>\n",
              "      <button class=\"colab-df-convert\" onclick=\"convertToInteractive('df-7c027cb1-8607-4fe7-a6bf-6f914b7d3392')\"\n",
              "              title=\"Convert this dataframe to an interactive table.\"\n",
              "              style=\"display:none;\">\n",
              "        \n",
              "  <svg xmlns=\"http://www.w3.org/2000/svg\" height=\"24px\"viewBox=\"0 0 24 24\"\n",
              "       width=\"24px\">\n",
              "    <path d=\"M0 0h24v24H0V0z\" fill=\"none\"/>\n",
              "    <path d=\"M18.56 5.44l.94 2.06.94-2.06 2.06-.94-2.06-.94-.94-2.06-.94 2.06-2.06.94zm-11 1L8.5 8.5l.94-2.06 2.06-.94-2.06-.94L8.5 2.5l-.94 2.06-2.06.94zm10 10l.94 2.06.94-2.06 2.06-.94-2.06-.94-.94-2.06-.94 2.06-2.06.94z\"/><path d=\"M17.41 7.96l-1.37-1.37c-.4-.4-.92-.59-1.43-.59-.52 0-1.04.2-1.43.59L10.3 9.45l-7.72 7.72c-.78.78-.78 2.05 0 2.83L4 21.41c.39.39.9.59 1.41.59.51 0 1.02-.2 1.41-.59l7.78-7.78 2.81-2.81c.8-.78.8-2.07 0-2.86zM5.41 20L4 18.59l7.72-7.72 1.47 1.35L5.41 20z\"/>\n",
              "  </svg>\n",
              "      </button>\n",
              "      \n",
              "  <style>\n",
              "    .colab-df-container {\n",
              "      display:flex;\n",
              "      flex-wrap:wrap;\n",
              "      gap: 12px;\n",
              "    }\n",
              "\n",
              "    .colab-df-convert {\n",
              "      background-color: #E8F0FE;\n",
              "      border: none;\n",
              "      border-radius: 50%;\n",
              "      cursor: pointer;\n",
              "      display: none;\n",
              "      fill: #1967D2;\n",
              "      height: 32px;\n",
              "      padding: 0 0 0 0;\n",
              "      width: 32px;\n",
              "    }\n",
              "\n",
              "    .colab-df-convert:hover {\n",
              "      background-color: #E2EBFA;\n",
              "      box-shadow: 0px 1px 2px rgba(60, 64, 67, 0.3), 0px 1px 3px 1px rgba(60, 64, 67, 0.15);\n",
              "      fill: #174EA6;\n",
              "    }\n",
              "\n",
              "    [theme=dark] .colab-df-convert {\n",
              "      background-color: #3B4455;\n",
              "      fill: #D2E3FC;\n",
              "    }\n",
              "\n",
              "    [theme=dark] .colab-df-convert:hover {\n",
              "      background-color: #434B5C;\n",
              "      box-shadow: 0px 1px 3px 1px rgba(0, 0, 0, 0.15);\n",
              "      filter: drop-shadow(0px 1px 2px rgba(0, 0, 0, 0.3));\n",
              "      fill: #FFFFFF;\n",
              "    }\n",
              "  </style>\n",
              "\n",
              "      <script>\n",
              "        const buttonEl =\n",
              "          document.querySelector('#df-7c027cb1-8607-4fe7-a6bf-6f914b7d3392 button.colab-df-convert');\n",
              "        buttonEl.style.display =\n",
              "          google.colab.kernel.accessAllowed ? 'block' : 'none';\n",
              "\n",
              "        async function convertToInteractive(key) {\n",
              "          const element = document.querySelector('#df-7c027cb1-8607-4fe7-a6bf-6f914b7d3392');\n",
              "          const dataTable =\n",
              "            await google.colab.kernel.invokeFunction('convertToInteractive',\n",
              "                                                     [key], {});\n",
              "          if (!dataTable) return;\n",
              "\n",
              "          const docLinkHtml = 'Like what you see? Visit the ' +\n",
              "            '<a target=\"_blank\" href=https://colab.research.google.com/notebooks/data_table.ipynb>data table notebook</a>'\n",
              "            + ' to learn more about interactive tables.';\n",
              "          element.innerHTML = '';\n",
              "          dataTable['output_type'] = 'display_data';\n",
              "          await google.colab.output.renderOutput(dataTable, element);\n",
              "          const docLink = document.createElement('div');\n",
              "          docLink.innerHTML = docLinkHtml;\n",
              "          element.appendChild(docLink);\n",
              "        }\n",
              "      </script>\n",
              "    </div>\n",
              "  </div>\n",
              "  "
            ]
          },
          "metadata": {},
          "execution_count": 7
        }
      ]
    },
    {
      "cell_type": "code",
      "source": [
        "#taking the open price of data\n",
        "open=Google_Data[['Open']]"
      ],
      "metadata": {
        "id": "TbVQeLAnDu3Q"
      },
      "execution_count": null,
      "outputs": []
    },
    {
      "cell_type": "markdown",
      "source": [
        "Plotting the open Price of Google"
      ],
      "metadata": {
        "id": "FY8Z8qO_DyXh"
      }
    },
    {
      "cell_type": "code",
      "source": [
        "open.plot()"
      ],
      "metadata": {
        "colab": {
          "base_uri": "https://localhost:8080/",
          "height": 448
        },
        "id": "ePlb_LbZDzM-",
        "outputId": "ae1d3bfc-ffc4-4179-efa9-a624f9c23faa"
      },
      "execution_count": null,
      "outputs": [
        {
          "output_type": "execute_result",
          "data": {
            "text/plain": [
              "<Axes: >"
            ]
          },
          "metadata": {},
          "execution_count": 9
        },
        {
          "output_type": "display_data",
          "data": {
            "text/plain": [
              "<Figure size 640x480 with 1 Axes>"
            ],
            "image/png": "[encoded data removed]"
          },
          "metadata": {}
        }
      ]
    },
    {
      "cell_type": "code",
      "source": [
        "#convert the open prices to numpy array using dot function\n",
        "ds=open.values\n",
        "ds"
      ],
      "metadata": {
        "colab": {
          "base_uri": "https://localhost:8080/"
        },
        "id": "LuDEBBhnGHbp",
        "outputId": "c219d81b-722b-4ff4-cd32-901022b58784"
      },
      "execution_count": null,
      "outputs": [
        {
          "output_type": "execute_result",
          "data": {
            "text/plain": [
              "array([[ 325.25    ],\n",
              "       [ 331.27    ],\n",
              "       [ 329.83    ],\n",
              "       ...,\n",
              "       [1057.390015],\n",
              "       [1051.599976],\n",
              "       [1046.719971]])"
            ]
          },
          "metadata": {},
          "execution_count": 10
        }
      ]
    },
    {
      "cell_type": "code",
      "source": [
        "#By using MinMaxscaler normalizing data between 0 & 1\n",
        "normalizer = MinMaxScaler(feature_range=(0,1))\n",
        "ds_scaled=normalizer.fit_transform(np.array(ds).reshape(-1,1))"
      ],
      "metadata": {
        "id": "5vkZIe79Galz"
      },
      "execution_count": null,
      "outputs": []
    },
    {
      "cell_type": "markdown",
      "source": [
        "Train and test size"
      ],
      "metadata": {
        "id": "_hecsrCxHv5z"
      }
    },
    {
      "cell_type": "code",
      "source": [
        "#Define test and train data sizes\n",
        "#70% for train\n",
        "#30% for test\n",
        "train_size=int(len(ds_scaled)*0.70)\n",
        "test_size=len(ds_scaled)-train_size"
      ],
      "metadata": {
        "id": "NG144w3vHpO0"
      },
      "execution_count": null,
      "outputs": []
    },
    {
      "cell_type": "code",
      "source": [
        "train_size,test_size"
      ],
      "metadata": {
        "colab": {
          "base_uri": "https://localhost:8080/"
        },
        "id": "0z80qv0LIPR6",
        "outputId": "03cda962-afab-4c78-e494-e63500a546e9"
      },
      "execution_count": null,
      "outputs": [
        {
          "output_type": "execute_result",
          "data": {
            "text/plain": [
              "(1056, 453)"
            ]
          },
          "metadata": {},
          "execution_count": 13
        }
      ]
    },
    {
      "cell_type": "markdown",
      "source": [
        "Splitting the data to train and test"
      ],
      "metadata": {
        "id": "d1nuYrtNItTi"
      }
    },
    {
      "cell_type": "code",
      "source": [
        "#splitting data : train and test\n",
        "ds_train,ds_test=ds_scaled[0:train_size,:],ds_scaled[train_size:len(ds_scaled),:1]"
      ],
      "metadata": {
        "id": "Xk7z9AOgIuFR"
      },
      "execution_count": null,
      "outputs": []
    },
    {
      "cell_type": "code",
      "source": [
        "len(ds_train),len(ds_test)"
      ],
      "metadata": {
        "colab": {
          "base_uri": "https://localhost:8080/"
        },
        "id": "7vW8NncxI7GE",
        "outputId": "dc3605a9-d4e3-49c9-a612-a9ce118f355a"
      },
      "execution_count": null,
      "outputs": [
        {
          "output_type": "execute_result",
          "data": {
            "text/plain": [
              "(1056, 453)"
            ]
          },
          "metadata": {},
          "execution_count": 15
        }
      ]
    },
    {
      "cell_type": "code",
      "source": [
        "#creating dataset in time series for LSTM model\n",
        "#X[100,120,140,160,180] : Y[200]\n",
        "def create_ds(dataset,step):\n",
        "    Xtrain, Ytrain = [], []\n",
        "    for i in range(len(dataset)-step-1):\n",
        "        a = dataset[i:(i+step), 0]\n",
        "        Xtrain.append(a)\n",
        "        Ytrain.append(dataset[i + step, 0])\n",
        "    return np.array(Xtrain), np.array(Ytrain)"
      ],
      "metadata": {
        "id": "uBcGDblQJyga"
      },
      "execution_count": null,
      "outputs": []
    },
    {
      "cell_type": "code",
      "source": [
        "#Here Iam taking 100 days price as one record for training\n",
        "time_stamp = 100\n",
        "X_train, y_train = create_ds(ds_train,time_stamp)\n",
        "X_test, y_test = create_ds(ds_test,time_stamp)"
      ],
      "metadata": {
        "id": "HRwx8aGaLRvs"
      },
      "execution_count": null,
      "outputs": []
    },
    {
      "cell_type": "code",
      "source": [
        "X_train.shape,y_train.shape"
      ],
      "metadata": {
        "colab": {
          "base_uri": "https://localhost:8080/"
        },
        "id": "u4ABYc9lLWvy",
        "outputId": "bf391a99-6909-4ba9-9f16-2a683dc68368"
      },
      "execution_count": null,
      "outputs": [
        {
          "output_type": "execute_result",
          "data": {
            "text/plain": [
              "((955, 100), (955,))"
            ]
          },
          "metadata": {},
          "execution_count": 18
        }
      ]
    },
    {
      "cell_type": "code",
      "source": [
        "X_test.shape, y_test.shape"
      ],
      "metadata": {
        "colab": {
          "base_uri": "https://localhost:8080/"
        },
        "id": "zhoFwpWZLZsj",
        "outputId": "3a83f573-4383-4b93-a62d-285e3a8879c3"
      },
      "execution_count": null,
      "outputs": [
        {
          "output_type": "execute_result",
          "data": {
            "text/plain": [
              "((352, 100), (352,))"
            ]
          },
          "metadata": {},
          "execution_count": 19
        }
      ]
    },
    {
      "cell_type": "code",
      "source": [
        "#Reshaping data to fit into LSTM model\n",
        "X_train = X_train.reshape(X_train.shape[0],X_train.shape[1] , 1)\n",
        "X_test = X_test.reshape(X_test.shape[0],X_test.shape[1] , 1)"
      ],
      "metadata": {
        "id": "_BErzuOqLlLS"
      },
      "execution_count": null,
      "outputs": []
    },
    {
      "cell_type": "markdown",
      "source": [
        "Modelling"
      ],
      "metadata": {
        "id": "YD7e-gtqLnP5"
      }
    },
    {
      "cell_type": "code",
      "source": [
        "from keras.models import Sequential\n",
        "from keras.layers import Dense, LSTM"
      ],
      "metadata": {
        "id": "OzL4nuWILqTK"
      },
      "execution_count": null,
      "outputs": []
    },
    {
      "cell_type": "code",
      "source": [
        "#Creating LSTM model using keras\n",
        "model = Sequential()\n",
        "model.add(LSTM(units=50,return_sequences=True,input_shape=(X_train.shape[1],1)))\n",
        "model.add(LSTM(units=50,return_sequences=True))\n",
        "model.add(LSTM(units=50))\n",
        "model.add(Dense(units=1,activation='linear'))"
      ],
      "metadata": {
        "id": "VlCjlDVjL5Oy"
      },
      "execution_count": null,
      "outputs": []
    },
    {
      "cell_type": "code",
      "source": [
        "model.summary()"
      ],
      "metadata": {
        "colab": {
          "base_uri": "https://localhost:8080/"
        },
        "id": "uyWJPYhfMQlL",
        "outputId": "03f6825e-9ea6-44ad-9510-3d0ca5e36418"
      },
      "execution_count": null,
      "outputs": [
        {
          "output_type": "stream",
          "name": "stdout",
          "text": [
            "Model: \"sequential\"\n",
            "_________________________________________________________________\n",
            " Layer (type)                Output Shape              Param #   \n",
            "=================================================================\n",
            " lstm (LSTM)                 (None, 100, 50)           10400     \n",
            "                                                                 \n",
            " lstm_1 (LSTM)               (None, 100, 50)           20200     \n",
            "                                                                 \n",
            " lstm_2 (LSTM)               (None, 50)                20200     \n",
            "                                                                 \n",
            " dense (Dense)               (None, 1)                 51        \n",
            "                                                                 \n",
            "=================================================================\n",
            "Total params: 50,851\n",
            "Trainable params: 50,851\n",
            "Non-trainable params: 0\n",
            "_________________________________________________________________\n"
          ]
        }
      ]
    },
    {
      "cell_type": "code",
      "source": [
        "#Training model with adam optimizer and mean squared error loss function\n",
        "model.compile(loss='mean_squared_error',optimizer='adam')\n",
        "model.fit(X_train,y_train,validation_data=(X_test,y_test),epochs=100,batch_size=64)"
      ],
      "metadata": {
        "colab": {
          "base_uri": "https://localhost:8080/"
        },
        "id": "tabe0XMcMepK",
        "outputId": "157bc1f6-defe-426f-a305-24aadb950873"
      },
      "execution_count": null,
      "outputs": [
        {
          "output_type": "stream",
          "name": "stdout",
          "text": [
            "Epoch 1/100\n",
            "15/15 [==============================] - 12s 313ms/step - loss: 0.0237 - val_loss: 0.0835\n",
            "Epoch 2/100\n",
            "15/15 [==============================] - 3s 205ms/step - loss: 0.0036 - val_loss: 0.0219\n",
            "Epoch 3/100\n",
            "15/15 [==============================] - 3s 222ms/step - loss: 0.0014 - val_loss: 0.0034\n",
            "Epoch 4/100\n",
            "15/15 [==============================] - 6s 422ms/step - loss: 0.0011 - val_loss: 0.0013\n",
            "Epoch 5/100\n",
            "15/15 [==============================] - 3s 201ms/step - loss: 8.6291e-04 - val_loss: 0.0016\n",
            "Epoch 6/100\n",
            "15/15 [==============================] - 3s 198ms/step - loss: 8.4008e-04 - val_loss: 0.0018\n",
            "Epoch 7/100\n",
            "15/15 [==============================] - 4s 251ms/step - loss: 8.4206e-04 - val_loss: 0.0015\n",
            "Epoch 8/100\n",
            "15/15 [==============================] - 4s 288ms/step - loss: 8.0781e-04 - val_loss: 0.0022\n",
            "Epoch 9/100\n",
            "15/15 [==============================] - 3s 199ms/step - loss: 7.8979e-04 - val_loss: 0.0017\n",
            "Epoch 10/100\n",
            "15/15 [==============================] - 3s 199ms/step - loss: 7.6471e-04 - val_loss: 0.0021\n",
            "Epoch 11/100\n",
            "15/15 [==============================] - 3s 208ms/step - loss: 7.7247e-04 - val_loss: 0.0015\n",
            "Epoch 12/100\n",
            "15/15 [==============================] - 5s 317ms/step - loss: 7.4323e-04 - val_loss: 0.0024\n",
            "Epoch 13/100\n",
            "15/15 [==============================] - 3s 200ms/step - loss: 7.2236e-04 - val_loss: 0.0019\n",
            "Epoch 14/100\n",
            "15/15 [==============================] - 3s 200ms/step - loss: 7.0002e-04 - val_loss: 0.0014\n",
            "Epoch 15/100\n",
            "15/15 [==============================] - 3s 230ms/step - loss: 6.7677e-04 - val_loss: 0.0017\n",
            "Epoch 16/100\n",
            "15/15 [==============================] - 5s 336ms/step - loss: 6.7600e-04 - val_loss: 0.0024\n",
            "Epoch 17/100\n",
            "15/15 [==============================] - 3s 201ms/step - loss: 6.3838e-04 - val_loss: 0.0021\n",
            "Epoch 18/100\n",
            "15/15 [==============================] - 3s 201ms/step - loss: 6.3264e-04 - val_loss: 0.0022\n",
            "Epoch 19/100\n",
            "15/15 [==============================] - 3s 204ms/step - loss: 6.1282e-04 - val_loss: 0.0014\n",
            "Epoch 20/100\n",
            "15/15 [==============================] - 4s 306ms/step - loss: 6.1326e-04 - val_loss: 0.0025\n",
            "Epoch 21/100\n",
            "15/15 [==============================] - 3s 219ms/step - loss: 6.0477e-04 - val_loss: 0.0027\n",
            "Epoch 22/100\n",
            "15/15 [==============================] - 3s 202ms/step - loss: 6.0260e-04 - val_loss: 0.0011\n",
            "Epoch 23/100\n",
            "15/15 [==============================] - 3s 198ms/step - loss: 6.1818e-04 - val_loss: 8.4405e-04\n",
            "Epoch 24/100\n",
            "15/15 [==============================] - 4s 268ms/step - loss: 6.1367e-04 - val_loss: 0.0010\n",
            "Epoch 25/100\n",
            "15/15 [==============================] - 4s 262ms/step - loss: 5.7099e-04 - val_loss: 7.4584e-04\n",
            "Epoch 26/100\n",
            "15/15 [==============================] - 3s 200ms/step - loss: 6.2646e-04 - val_loss: 8.8869e-04\n",
            "Epoch 27/100\n",
            "15/15 [==============================] - 3s 201ms/step - loss: 5.9175e-04 - val_loss: 0.0015\n",
            "Epoch 28/100\n",
            "15/15 [==============================] - 3s 231ms/step - loss: 5.7742e-04 - val_loss: 0.0016\n",
            "Epoch 29/100\n",
            "15/15 [==============================] - 4s 294ms/step - loss: 5.2777e-04 - val_loss: 0.0011\n",
            "Epoch 30/100\n",
            "15/15 [==============================] - 3s 203ms/step - loss: 5.2082e-04 - val_loss: 0.0015\n",
            "Epoch 31/100\n",
            "15/15 [==============================] - 3s 201ms/step - loss: 5.2263e-04 - val_loss: 0.0025\n",
            "Epoch 32/100\n",
            "15/15 [==============================] - 3s 204ms/step - loss: 5.7719e-04 - val_loss: 0.0033\n",
            "Epoch 33/100\n",
            "15/15 [==============================] - 5s 328ms/step - loss: 5.4102e-04 - val_loss: 0.0017\n",
            "Epoch 34/100\n",
            "15/15 [==============================] - 3s 200ms/step - loss: 4.9240e-04 - val_loss: 0.0017\n",
            "Epoch 35/100\n",
            "15/15 [==============================] - 3s 200ms/step - loss: 5.0457e-04 - val_loss: 0.0013\n",
            "Epoch 36/100\n",
            "15/15 [==============================] - 3s 200ms/step - loss: 5.0188e-04 - val_loss: 0.0027\n",
            "Epoch 37/100\n",
            "15/15 [==============================] - 5s 322ms/step - loss: 4.8428e-04 - val_loss: 6.3609e-04\n",
            "Epoch 38/100\n",
            "15/15 [==============================] - 3s 206ms/step - loss: 5.0559e-04 - val_loss: 6.4545e-04\n",
            "Epoch 39/100\n",
            "15/15 [==============================] - 3s 200ms/step - loss: 5.4343e-04 - val_loss: 5.3819e-04\n",
            "Epoch 40/100\n",
            "15/15 [==============================] - 3s 202ms/step - loss: 5.3017e-04 - val_loss: 5.5111e-04\n",
            "Epoch 41/100\n",
            "15/15 [==============================] - 4s 281ms/step - loss: 4.8469e-04 - val_loss: 0.0012\n",
            "Epoch 42/100\n",
            "15/15 [==============================] - 4s 247ms/step - loss: 4.8907e-04 - val_loss: 9.7432e-04\n",
            "Epoch 43/100\n",
            "15/15 [==============================] - 3s 201ms/step - loss: 4.7428e-04 - val_loss: 5.3681e-04\n",
            "Epoch 44/100\n",
            "15/15 [==============================] - 3s 201ms/step - loss: 5.2373e-04 - val_loss: 0.0019\n",
            "Epoch 45/100\n",
            "15/15 [==============================] - 4s 248ms/step - loss: 5.7484e-04 - val_loss: 0.0023\n",
            "Epoch 46/100\n",
            "15/15 [==============================] - 4s 281ms/step - loss: 5.0299e-04 - val_loss: 0.0024\n",
            "Epoch 47/100\n",
            "15/15 [==============================] - 3s 199ms/step - loss: 5.0587e-04 - val_loss: 0.0012\n",
            "Epoch 48/100\n",
            "15/15 [==============================] - 3s 204ms/step - loss: 5.3513e-04 - val_loss: 0.0012\n",
            "Epoch 49/100\n",
            "15/15 [==============================] - 3s 210ms/step - loss: 4.5179e-04 - val_loss: 6.5805e-04\n",
            "Epoch 50/100\n",
            "15/15 [==============================] - 5s 315ms/step - loss: 4.5206e-04 - val_loss: 0.0011\n",
            "Epoch 51/100\n",
            "15/15 [==============================] - 3s 201ms/step - loss: 4.2178e-04 - val_loss: 5.7118e-04\n",
            "Epoch 52/100\n",
            "15/15 [==============================] - 3s 202ms/step - loss: 4.4684e-04 - val_loss: 5.7126e-04\n",
            "Epoch 53/100\n",
            "15/15 [==============================] - 3s 203ms/step - loss: 4.8799e-04 - val_loss: 4.8655e-04\n",
            "Epoch 54/100\n",
            "15/15 [==============================] - 5s 325ms/step - loss: 6.8447e-04 - val_loss: 9.7939e-04\n",
            "Epoch 55/100\n",
            "15/15 [==============================] - 3s 203ms/step - loss: 7.5760e-04 - val_loss: 0.0014\n",
            "Epoch 56/100\n",
            "15/15 [==============================] - 3s 197ms/step - loss: 5.0662e-04 - val_loss: 0.0024\n",
            "Epoch 57/100\n",
            "15/15 [==============================] - 3s 199ms/step - loss: 4.0805e-04 - val_loss: 9.2533e-04\n",
            "Epoch 58/100\n",
            "15/15 [==============================] - 4s 301ms/step - loss: 4.1561e-04 - val_loss: 0.0012\n",
            "Epoch 59/100\n",
            "15/15 [==============================] - 4s 229ms/step - loss: 4.3564e-04 - val_loss: 0.0012\n",
            "Epoch 60/100\n",
            "15/15 [==============================] - 3s 199ms/step - loss: 4.1975e-04 - val_loss: 0.0012\n",
            "Epoch 61/100\n",
            "15/15 [==============================] - 3s 201ms/step - loss: 4.2938e-04 - val_loss: 0.0010\n",
            "Epoch 62/100\n",
            "15/15 [==============================] - 4s 257ms/step - loss: 4.1174e-04 - val_loss: 0.0011\n",
            "Epoch 63/100\n",
            "15/15 [==============================] - 4s 269ms/step - loss: 4.1428e-04 - val_loss: 9.9994e-04\n",
            "Epoch 64/100\n",
            "15/15 [==============================] - 3s 203ms/step - loss: 4.1676e-04 - val_loss: 5.1043e-04\n",
            "Epoch 65/100\n",
            "15/15 [==============================] - 3s 205ms/step - loss: 4.0483e-04 - val_loss: 3.6358e-04\n",
            "Epoch 66/100\n",
            "15/15 [==============================] - 3s 232ms/step - loss: 3.9171e-04 - val_loss: 4.4644e-04\n",
            "Epoch 67/100\n",
            "15/15 [==============================] - 4s 299ms/step - loss: 3.6112e-04 - val_loss: 6.4011e-04\n",
            "Epoch 68/100\n",
            "15/15 [==============================] - 3s 201ms/step - loss: 3.5308e-04 - val_loss: 0.0011\n",
            "Epoch 69/100\n",
            "15/15 [==============================] - 3s 203ms/step - loss: 3.7342e-04 - val_loss: 0.0010\n",
            "Epoch 70/100\n",
            "15/15 [==============================] - 3s 199ms/step - loss: 3.6069e-04 - val_loss: 0.0013\n",
            "Epoch 71/100\n",
            "15/15 [==============================] - 5s 329ms/step - loss: 4.1805e-04 - val_loss: 6.1918e-04\n",
            "Epoch 72/100\n",
            "15/15 [==============================] - 3s 204ms/step - loss: 4.0174e-04 - val_loss: 3.0327e-04\n",
            "Epoch 73/100\n",
            "15/15 [==============================] - 3s 200ms/step - loss: 3.4502e-04 - val_loss: 3.4293e-04\n",
            "Epoch 74/100\n",
            "15/15 [==============================] - 3s 199ms/step - loss: 3.3521e-04 - val_loss: 4.1111e-04\n",
            "Epoch 75/100\n",
            "15/15 [==============================] - 4s 300ms/step - loss: 3.4071e-04 - val_loss: 3.2207e-04\n",
            "Epoch 76/100\n",
            "15/15 [==============================] - 3s 223ms/step - loss: 3.1513e-04 - val_loss: 3.0548e-04\n",
            "Epoch 77/100\n",
            "15/15 [==============================] - 3s 199ms/step - loss: 3.1081e-04 - val_loss: 2.7302e-04\n",
            "Epoch 78/100\n",
            "15/15 [==============================] - 3s 202ms/step - loss: 3.2695e-04 - val_loss: 3.6255e-04\n",
            "Epoch 79/100\n",
            "15/15 [==============================] - 4s 264ms/step - loss: 3.0742e-04 - val_loss: 2.3809e-04\n",
            "Epoch 80/100\n",
            "15/15 [==============================] - 4s 257ms/step - loss: 2.9522e-04 - val_loss: 3.3348e-04\n",
            "Epoch 81/100\n",
            "15/15 [==============================] - 3s 203ms/step - loss: 2.9883e-04 - val_loss: 2.4691e-04\n",
            "Epoch 82/100\n",
            "15/15 [==============================] - 3s 201ms/step - loss: 2.8129e-04 - val_loss: 4.8297e-04\n",
            "Epoch 83/100\n",
            "15/15 [==============================] - 3s 231ms/step - loss: 3.0985e-04 - val_loss: 2.8514e-04\n",
            "Epoch 84/100\n",
            "15/15 [==============================] - 4s 295ms/step - loss: 3.0171e-04 - val_loss: 5.1710e-04\n",
            "Epoch 85/100\n",
            "15/15 [==============================] - 3s 201ms/step - loss: 3.0673e-04 - val_loss: 2.1641e-04\n",
            "Epoch 86/100\n",
            "15/15 [==============================] - 3s 203ms/step - loss: 2.7085e-04 - val_loss: 2.2252e-04\n",
            "Epoch 87/100\n",
            "15/15 [==============================] - 3s 200ms/step - loss: 2.7387e-04 - val_loss: 3.3913e-04\n",
            "Epoch 88/100\n",
            "15/15 [==============================] - 5s 328ms/step - loss: 2.8063e-04 - val_loss: 5.4781e-04\n",
            "Epoch 89/100\n",
            "15/15 [==============================] - 3s 202ms/step - loss: 2.8732e-04 - val_loss: 0.0012\n",
            "Epoch 90/100\n",
            "15/15 [==============================] - 3s 199ms/step - loss: 3.5080e-04 - val_loss: 2.5521e-04\n",
            "Epoch 91/100\n",
            "15/15 [==============================] - 3s 200ms/step - loss: 2.9268e-04 - val_loss: 2.0415e-04\n",
            "Epoch 92/100\n",
            "15/15 [==============================] - 4s 307ms/step - loss: 2.8823e-04 - val_loss: 1.9188e-04\n",
            "Epoch 93/100\n",
            "15/15 [==============================] - 3s 217ms/step - loss: 2.5402e-04 - val_loss: 2.1643e-04\n",
            "Epoch 94/100\n",
            "15/15 [==============================] - 3s 200ms/step - loss: 2.3656e-04 - val_loss: 3.0767e-04\n",
            "Epoch 95/100\n",
            "15/15 [==============================] - 3s 198ms/step - loss: 2.3607e-04 - val_loss: 8.8710e-04\n",
            "Epoch 96/100\n",
            "15/15 [==============================] - 4s 264ms/step - loss: 2.5723e-04 - val_loss: 4.2565e-04\n",
            "Epoch 97/100\n",
            "15/15 [==============================] - 4s 257ms/step - loss: 2.3581e-04 - val_loss: 3.5055e-04\n",
            "Epoch 98/100\n",
            "15/15 [==============================] - 3s 203ms/step - loss: 2.4067e-04 - val_loss: 1.7957e-04\n",
            "Epoch 99/100\n",
            "15/15 [==============================] - 3s 203ms/step - loss: 2.2745e-04 - val_loss: 1.9633e-04\n",
            "Epoch 100/100\n",
            "15/15 [==============================] - 3s 234ms/step - loss: 2.3050e-04 - val_loss: 1.8004e-04\n"
          ]
        },
        {
          "output_type": "execute_result",
          "data": {
            "text/plain": [
              "<keras.callbacks.History at 0x7f4bac7d7b80>"
            ]
          },
          "metadata": {},
          "execution_count": 24
        }
      ]
    },
    {
      "cell_type": "code",
      "source": [
        "#PLotting loss, it shows that loss has decreased significantly and model trained well\n",
        "loss = model.history.history['loss']\n",
        "plt.plot(loss)"
      ],
      "metadata": {
        "colab": {
          "base_uri": "https://localhost:8080/"
        },
        "id": "Wc7oPUotNRXM",
        "outputId": "377f593d-d54c-4193-b70a-39bf6e176d9f"
      },
      "execution_count": null,
      "outputs": [
        {
          "output_type": "execute_result",
          "data": {
            "text/plain": [
              "[<matplotlib.lines.Line2D at 0x7f4b99cbb340>]"
            ]
          },
          "metadata": {},
          "execution_count": 25
        },
        {
          "output_type": "display_data",
          "data": {
            "text/plain": [
              "<Figure size 640x480 with 1 Axes>"
            ],
            "image/png": "[encoded data removed]"
          },
          "metadata": {}
        }
      ]
    },
    {
      "cell_type": "code",
      "source": [
        "#Predicitng on train and test data\n",
        "train_predict = model.predict(X_train)\n",
        "test_predict = model.predict(X_test)"
      ],
      "metadata": {
        "colab": {
          "base_uri": "https://localhost:8080/"
        },
        "id": "C2v5pQIUOhZL",
        "outputId": "91f1b8e6-1285-4eb4-9eff-3811f4c96620"
      },
      "execution_count": null,
      "outputs": [
        {
          "output_type": "stream",
          "name": "stdout",
          "text": [
            "30/30 [==============================] - 2s 39ms/step\n",
            "11/11 [==============================] - 1s 60ms/step\n"
          ]
        }
      ]
    },
    {
      "cell_type": "code",
      "source": [
        "#Inverse transform to get actual value\n",
        "train_predict = normalizer.inverse_transform(train_predict)\n",
        "test_predict = normalizer.inverse_transform(test_predict)"
      ],
      "metadata": {
        "id": "Zie2fOkPOnna"
      },
      "execution_count": null,
      "outputs": []
    },
    {
      "cell_type": "code",
      "source": [
        "#Comparing using visuals\n",
        "#blue=actual data\n",
        "#orange=predicted value of train data\n",
        "#green=predicted value of test data\n",
        "plt.plot(normalizer.inverse_transform(ds_scaled))\n",
        "plt.plot(train_predict)\n",
        "plt.plot(test_predict)"
      ],
      "metadata": {
        "colab": {
          "base_uri": "https://localhost:8080/"
        },
        "id": "f7p2gM_gU2lu",
        "outputId": "4ebd5e5e-17f9-41f2-d855-84ef7549b05f"
      },
      "execution_count": null,
      "outputs": [
        {
          "output_type": "execute_result",
          "data": {
            "text/plain": [
              "[<matplotlib.lines.Line2D at 0x7f4bacf198e0>]"
            ]
          },
          "metadata": {},
          "execution_count": 28
        },
        {
          "output_type": "display_data",
          "data": {
            "text/plain": [
              "<Figure size 640x480 with 1 Axes>"
            ],
            "image/png": "[encoded data removed]"
          },
          "metadata": {}
        }
      ]
    },
    {
      "cell_type": "code",
      "source": [
        "type(train_predict)"
      ],
      "metadata": {
        "colab": {
          "base_uri": "https://localhost:8080/"
        },
        "id": "WhlddCUlVGOM",
        "outputId": "29ce3f24-faea-40ea-94b2-9fdf8d5a4570"
      },
      "execution_count": null,
      "outputs": [
        {
          "output_type": "execute_result",
          "data": {
            "text/plain": [
              "numpy.ndarray"
            ]
          },
          "metadata": {},
          "execution_count": 29
        }
      ]
    },
    {
      "cell_type": "code",
      "source": [
        "test = np.vstack((train_predict,test_predict))"
      ],
      "metadata": {
        "id": "oj1vTUHuVI-D"
      },
      "execution_count": null,
      "outputs": []
    },
    {
      "cell_type": "code",
      "source": [
        "#Combining the predited data to create uniform data visualization\n",
        "plt.plot(normalizer.inverse_transform(ds_scaled))\n",
        "plt.plot(test)"
      ],
      "metadata": {
        "colab": {
          "base_uri": "https://localhost:8080/",
          "height": 448
        },
        "id": "kbZ-kzt1Cx92",
        "outputId": "879139fc-4b2a-4ae8-eedc-ede5935ffca0"
      },
      "execution_count": null,
      "outputs": [
        {
          "output_type": "execute_result",
          "data": {
            "text/plain": [
              "[<matplotlib.lines.Line2D at 0x7f4bacea8820>]"
            ]
          },
          "metadata": {},
          "execution_count": 31
        },
        {
          "output_type": "display_data",
          "data": {
            "text/plain": [
              "<Figure size 640x480 with 1 Axes>"
            ],
            "image/png": "[encoded data removed]"
          },
          "metadata": {}
        }
      ]
    }
  ]
}