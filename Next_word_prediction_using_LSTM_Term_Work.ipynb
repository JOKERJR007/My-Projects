{
  "cells": [
    {
      "cell_type": "markdown",
      "source": [
        "\n",
        "Name: JOEL RAJU\n",
        "\n",
        "Batch: R1\n",
        "\n",
        "Date: 10-04-2023\n",
        "\n",
        "Term Work:Next word prediction using LSTM\n",
        "\n",
        "\n",
        "Given three words of a sentence, it should predict next word. I am using LSTM (Long-Short Term Memory) here.\n",
        "\n",
        "\n",
        "Note: LSTM comes under Recurrent Neural Network (RNN) architecture used in the field of deep learning. A common LSTM unit is composed of a cell, an input gate, an output gate and a forget gate."
      ],
      "metadata": {
        "id": "P8waH3KwNIh_"
      }
    },
    {
      "cell_type": "markdown",
      "metadata": {
        "id": "sBoKSiGg_mZX"
      },
      "source": [
        "Step 1: Import libraries"
      ]
    },
    {
      "cell_type": "code",
      "execution_count": null,
      "metadata": {
        "id": "1R9x8Fw49yYe"
      },
      "outputs": [],
      "source": [
        "import tensorflow as tf\n",
        "from tensorflow.keras.preprocessing.text import Tokenizer\n",
        "from tensorflow.keras.layers import Embedding, LSTM, Dense\n",
        "from tensorflow.keras.models import Sequential\n",
        "from tensorflow.keras.utils import to_categorical\n",
        "from tensorflow.keras.optimizers import Adam\n",
        "import pickle\n",
        "import numpy as np\n",
        "import os"
      ]
    },
    {
      "cell_type": "markdown",
      "metadata": {
        "id": "6RLpB072_iiK"
      },
      "source": [
        "Step 2: Load your file"
      ]
    },
    {
      "cell_type": "code",
      "execution_count": null,
      "metadata": {
        "colab": {
          "base_uri": "https://localhost:8080/",
          "height": 73
        },
        "id": "F0T7rLLJ-Dkm",
        "outputId": "883a69a4-2b11-4550-dc7c-3731954feab5"
      },
      "outputs": [
        {
          "output_type": "display_data",
          "data": {
            "text/plain": [
              "<IPython.core.display.HTML object>"
            ],
            "text/html": [
              "\n",
              "     <input type=\"file\" id=\"files-05637ade-6e08-4ce3-b222-22cb0079ef5d\" name=\"files[]\" multiple disabled\n",
              "        style=\"border:none\" />\n",
              "     <output id=\"result-05637ade-6e08-4ce3-b222-22cb0079ef5d\">\n",
              "      Upload widget is only available when the cell has been executed in the\n",
              "      current browser session. Please rerun this cell to enable.\n",
              "      </output>\n",
              "      <script>// Copyright 2017 Google LLC\n",
              "//\n",
              "// Licensed under the Apache License, Version 2.0 (the \"License\");\n",
              "// you may not use this file except in compliance with the License.\n",
              "// You may obtain a copy of the License at\n",
              "//\n",
              "//      http://www.apache.org/licenses/LICENSE-2.0\n",
              "//\n",
              "// Unless required by applicable law or agreed to in writing, software\n",
              "// distributed under the License is distributed on an \"AS IS\" BASIS,\n",
              "// WITHOUT WARRANTIES OR CONDITIONS OF ANY KIND, either express or implied.\n",
              "// See the License for the specific language governing permissions and\n",
              "// limitations under the License.\n",
              "\n",
              "/**\n",
              " * @fileoverview Helpers for google.colab Python module.\n",
              " */\n",
              "(function(scope) {\n",
              "function span(text, styleAttributes = {}) {\n",
              "  const element = document.createElement('span');\n",
              "  element.textContent = text;\n",
              "  for (const key of Object.keys(styleAttributes)) {\n",
              "    element.style[key] = styleAttributes[key];\n",
              "  }\n",
              "  return element;\n",
              "}\n",
              "\n",
              "// Max number of bytes which will be uploaded at a time.\n",
              "const MAX_PAYLOAD_SIZE = 100 * 1024;\n",
              "\n",
              "function _uploadFiles(inputId, outputId) {\n",
              "  const steps = uploadFilesStep(inputId, outputId);\n",
              "  const outputElement = document.getElementById(outputId);\n",
              "  // Cache steps on the outputElement to make it available for the next call\n",
              "  // to uploadFilesContinue from Python.\n",
              "  outputElement.steps = steps;\n",
              "\n",
              "  return _uploadFilesContinue(outputId);\n",
              "}\n",
              "\n",
              "// This is roughly an async generator (not supported in the browser yet),\n",
              "// where there are multiple asynchronous steps and the Python side is going\n",
              "// to poll for completion of each step.\n",
              "// This uses a Promise to block the python side on completion of each step,\n",
              "// then passes the result of the previous step as the input to the next step.\n",
              "function _uploadFilesContinue(outputId) {\n",
              "  const outputElement = document.getElementById(outputId);\n",
              "  const steps = outputElement.steps;\n",
              "\n",
              "  const next = steps.next(outputElement.lastPromiseValue);\n",
              "  return Promise.resolve(next.value.promise).then((value) => {\n",
              "    // Cache the last promise value to make it available to the next\n",
              "    // step of the generator.\n",
              "    outputElement.lastPromiseValue = value;\n",
              "    return next.value.response;\n",
              "  });\n",
              "}\n",
              "\n",
              "/**\n",
              " * Generator function which is called between each async step of the upload\n",
              " * process.\n",
              " * @param {string} inputId Element ID of the input file picker element.\n",
              " * @param {string} outputId Element ID of the output display.\n",
              " * @return {!Iterable<!Object>} Iterable of next steps.\n",
              " */\n",
              "function* uploadFilesStep(inputId, outputId) {\n",
              "  const inputElement = document.getElementById(inputId);\n",
              "  inputElement.disabled = false;\n",
              "\n",
              "  const outputElement = document.getElementById(outputId);\n",
              "  outputElement.innerHTML = '';\n",
              "\n",
              "  const pickedPromise = new Promise((resolve) => {\n",
              "    inputElement.addEventListener('change', (e) => {\n",
              "      resolve(e.target.files);\n",
              "    });\n",
              "  });\n",
              "\n",
              "  const cancel = document.createElement('button');\n",
              "  inputElement.parentElement.appendChild(cancel);\n",
              "  cancel.textContent = 'Cancel upload';\n",
              "  const cancelPromise = new Promise((resolve) => {\n",
              "    cancel.onclick = () => {\n",
              "      resolve(null);\n",
              "    };\n",
              "  });\n",
              "\n",
              "  // Wait for the user to pick the files.\n",
              "  const files = yield {\n",
              "    promise: Promise.race([pickedPromise, cancelPromise]),\n",
              "    response: {\n",
              "      action: 'starting',\n",
              "    }\n",
              "  };\n",
              "\n",
              "  cancel.remove();\n",
              "\n",
              "  // Disable the input element since further picks are not allowed.\n",
              "  inputElement.disabled = true;\n",
              "\n",
              "  if (!files) {\n",
              "    return {\n",
              "      response: {\n",
              "        action: 'complete',\n",
              "      }\n",
              "    };\n",
              "  }\n",
              "\n",
              "  for (const file of files) {\n",
              "    const li = document.createElement('li');\n",
              "    li.append(span(file.name, {fontWeight: 'bold'}));\n",
              "    li.append(span(\n",
              "        `(${file.type || 'n/a'}) - ${file.size} bytes, ` +\n",
              "        `last modified: ${\n",
              "            file.lastModifiedDate ? file.lastModifiedDate.toLocaleDateString() :\n",
              "                                    'n/a'} - `));\n",
              "    const percent = span('0% done');\n",
              "    li.appendChild(percent);\n",
              "\n",
              "    outputElement.appendChild(li);\n",
              "\n",
              "    const fileDataPromise = new Promise((resolve) => {\n",
              "      const reader = new FileReader();\n",
              "      reader.onload = (e) => {\n",
              "        resolve(e.target.result);\n",
              "      };\n",
              "      reader.readAsArrayBuffer(file);\n",
              "    });\n",
              "    // Wait for the data to be ready.\n",
              "    let fileData = yield {\n",
              "      promise: fileDataPromise,\n",
              "      response: {\n",
              "        action: 'continue',\n",
              "      }\n",
              "    };\n",
              "\n",
              "    // Use a chunked sending to avoid message size limits. See b/62115660.\n",
              "    let position = 0;\n",
              "    do {\n",
              "      const length = Math.min(fileData.byteLength - position, MAX_PAYLOAD_SIZE);\n",
              "      const chunk = new Uint8Array(fileData, position, length);\n",
              "      position += length;\n",
              "\n",
              "      const base64 = btoa(String.fromCharCode.apply(null, chunk));\n",
              "      yield {\n",
              "        response: {\n",
              "          action: 'append',\n",
              "          file: file.name,\n",
              "          data: base64,\n",
              "        },\n",
              "      };\n",
              "\n",
              "      let percentDone = fileData.byteLength === 0 ?\n",
              "          100 :\n",
              "          Math.round((position / fileData.byteLength) * 100);\n",
              "      percent.textContent = `${percentDone}% done`;\n",
              "\n",
              "    } while (position < fileData.byteLength);\n",
              "  }\n",
              "\n",
              "  // All done.\n",
              "  yield {\n",
              "    response: {\n",
              "      action: 'complete',\n",
              "    }\n",
              "  };\n",
              "}\n",
              "\n",
              "scope.google = scope.google || {};\n",
              "scope.google.colab = scope.google.colab || {};\n",
              "scope.google.colab._files = {\n",
              "  _uploadFiles,\n",
              "  _uploadFilesContinue,\n",
              "};\n",
              "})(self);\n",
              "</script> "
            ]
          },
          "metadata": {}
        },
        {
          "output_type": "stream",
          "name": "stdout",
          "text": [
            "Saving Pride and prejudice.txt to Pride and prejudice.txt\n"
          ]
        }
      ],
      "source": [
        "from google.colab import files\n",
        "uploaded = files.upload()"
      ]
    },
    {
      "cell_type": "markdown",
      "metadata": {
        "id": "u1JYtJMH_fyq"
      },
      "source": [
        "Step 3: Open and pre-process the data"
      ]
    },
    {
      "cell_type": "code",
      "execution_count": null,
      "metadata": {
        "colab": {
          "base_uri": "https://localhost:8080/",
          "height": 73
        },
        "id": "Wbl61-hk-S60",
        "outputId": "5c3148fa-a468-43db-9999-15932e42b712"
      },
      "outputs": [
        {
          "output_type": "execute_result",
          "data": {
            "text/plain": [
              "'The Project Gutenberg eBook of Pride and prejudice, by Jane Austen This eBook is for the use of anyone anywhere in the United States and most other parts of the world at no cost and with almost no restrictions whatsoever. You may copy it, give it away or re-use it under the terms of the Project Gutenberg License included with this eBook or online at www.gutenberg.org. If you are not located in the United States, you will have to check the laws of the country where you are located before using th'"
            ],
            "application/vnd.google.colaboratory.intrinsic+json": {
              "type": "string"
            }
          },
          "metadata": {},
          "execution_count": 3
        }
      ],
      "source": [
        "file = open(\"Pride and prejudice.txt\", \"r\", encoding = \"utf8\")\n",
        "\n",
        "# store file in list\n",
        "lines = []\n",
        "for i in file:\n",
        "    lines.append(i)\n",
        "\n",
        "# Convert list to string\n",
        "data = \"\"\n",
        "for i in lines:\n",
        "  data = ' '. join(lines)\n",
        "\n",
        "#replace unnecessary stuff with space\n",
        "data = data.replace('\\n', '').replace('\\r', '').replace('\\ufeff', '').replace('“','').replace('”','')  #new line, carriage return, unicode character --> replace by space\n",
        "\n",
        "#remove unnecessary spaces\n",
        "data = data.split()\n",
        "data = ' '.join(data)\n",
        "data[:500]"
      ]
    },
    {
      "cell_type": "code",
      "execution_count": null,
      "metadata": {
        "colab": {
          "base_uri": "https://localhost:8080/"
        },
        "id": "coWQuCrw-oN1",
        "outputId": "7f6f6370-c7d5-4e61-8044-c9fbf5a7b6fb"
      },
      "outputs": [
        {
          "output_type": "execute_result",
          "data": {
            "text/plain": [
              "733851"
            ]
          },
          "metadata": {},
          "execution_count": 4
        }
      ],
      "source": [
        "len(data)"
      ]
    },
    {
      "cell_type": "markdown",
      "metadata": {
        "id": "EFuXTzew_cZg"
      },
      "source": [
        "Step 4: Apply tokenization and some other changes"
      ]
    },
    {
      "cell_type": "code",
      "execution_count": null,
      "metadata": {
        "colab": {
          "base_uri": "https://localhost:8080/"
        },
        "id": "Z0FTyv26-r5H",
        "outputId": "4ba60333-9f01-4ef6-b7e3-4d663d4700c3"
      },
      "outputs": [
        {
          "output_type": "execute_result",
          "data": {
            "text/plain": [
              "[1, 182, 164, 1001, 3, 299, 4, 946, 30, 72, 710, 41, 1001, 23, 21]"
            ]
          },
          "metadata": {},
          "execution_count": 5
        }
      ],
      "source": [
        "tokenizer = Tokenizer()\n",
        "tokenizer.fit_on_texts([data])\n",
        "\n",
        "# saving the tokenizer for predict function\n",
        "pickle.dump(tokenizer, open('token.pkl', 'wb'))\n",
        "\n",
        "sequence_data = tokenizer.texts_to_sequences([data])[0]\n",
        "sequence_data[:15]"
      ]
    },
    {
      "cell_type": "code",
      "execution_count": null,
      "metadata": {
        "colab": {
          "base_uri": "https://localhost:8080/"
        },
        "id": "GMPR9Xr5-vzJ",
        "outputId": "bf60a220-cf24-4bce-9614-04c42218c2bc"
      },
      "outputs": [
        {
          "output_type": "execute_result",
          "data": {
            "text/plain": [
              "131237"
            ]
          },
          "metadata": {},
          "execution_count": 6
        }
      ],
      "source": [
        "len(sequence_data)"
      ]
    },
    {
      "cell_type": "code",
      "execution_count": null,
      "metadata": {
        "colab": {
          "base_uri": "https://localhost:8080/"
        },
        "id": "FhvYpDgo-zo1",
        "outputId": "461d11e0-215d-4d01-e9ae-bb8337d23de3"
      },
      "outputs": [
        {
          "output_type": "stream",
          "name": "stdout",
          "text": [
            "7251\n"
          ]
        }
      ],
      "source": [
        "vocab_size = len(tokenizer.word_index) + 1\n",
        "print(vocab_size)"
      ]
    },
    {
      "cell_type": "code",
      "execution_count": null,
      "metadata": {
        "colab": {
          "base_uri": "https://localhost:8080/"
        },
        "id": "rYaC7Ggy-3Uj",
        "outputId": "03fa9caf-d179-4b2d-af81-5a556acdb58d"
      },
      "outputs": [
        {
          "output_type": "stream",
          "name": "stdout",
          "text": [
            "The Length of sequences are:  131234\n"
          ]
        },
        {
          "output_type": "execute_result",
          "data": {
            "text/plain": [
              "array([[   1,  182,  164, 1001],\n",
              "       [ 182,  164, 1001,    3],\n",
              "       [ 164, 1001,    3,  299],\n",
              "       [1001,    3,  299,    4],\n",
              "       [   3,  299,    4,  946],\n",
              "       [ 299,    4,  946,   30],\n",
              "       [   4,  946,   30,   72],\n",
              "       [ 946,   30,   72,  710],\n",
              "       [  30,   72,  710,   41],\n",
              "       [  72,  710,   41, 1001]])"
            ]
          },
          "metadata": {},
          "execution_count": 8
        }
      ],
      "source": [
        "sequences = []\n",
        "\n",
        "for i in range(3, len(sequence_data)):\n",
        "    words = sequence_data[i-3:i+1]\n",
        "    sequences.append(words)\n",
        "\n",
        "print(\"The Length of sequences are: \", len(sequences))\n",
        "sequences = np.array(sequences)\n",
        "sequences[:10]"
      ]
    },
    {
      "cell_type": "code",
      "execution_count": null,
      "metadata": {
        "id": "2-rj5xU---0a"
      },
      "outputs": [],
      "source": [
        "X = []\n",
        "y = []\n",
        "\n",
        "for i in sequences:\n",
        "    X.append(i[0:3])\n",
        "    y.append(i[3])\n",
        "\n",
        "X = np.array(X)\n",
        "y = np.array(y)"
      ]
    },
    {
      "cell_type": "code",
      "execution_count": null,
      "metadata": {
        "colab": {
          "base_uri": "https://localhost:8080/"
        },
        "id": "sYq6Ow8q_CZ0",
        "outputId": "9204e09b-1fe6-4fa9-bca6-69b1b60773c6"
      },
      "outputs": [
        {
          "output_type": "stream",
          "name": "stdout",
          "text": [
            "Data:  [[   1  182  164]\n",
            " [ 182  164 1001]\n",
            " [ 164 1001    3]\n",
            " [1001    3  299]\n",
            " [   3  299    4]\n",
            " [ 299    4  946]\n",
            " [   4  946   30]\n",
            " [ 946   30   72]\n",
            " [  30   72  710]\n",
            " [  72  710   41]]\n",
            "Response:  [1001    3  299    4  946   30   72  710   41 1001]\n"
          ]
        }
      ],
      "source": [
        "print(\"Data: \", X[:10])\n",
        "print(\"Response: \", y[:10])"
      ]
    },
    {
      "cell_type": "code",
      "execution_count": null,
      "metadata": {
        "colab": {
          "base_uri": "https://localhost:8080/"
        },
        "id": "3TRX8483_KtN",
        "outputId": "5fb91866-e89a-4b47-82c3-304c8aee666c"
      },
      "outputs": [
        {
          "output_type": "execute_result",
          "data": {
            "text/plain": [
              "array([[0., 0., 0., ..., 0., 0., 0.],\n",
              "       [0., 0., 0., ..., 0., 0., 0.],\n",
              "       [0., 0., 0., ..., 0., 0., 0.],\n",
              "       [0., 0., 0., ..., 0., 0., 0.],\n",
              "       [0., 0., 0., ..., 0., 0., 0.]], dtype=float32)"
            ]
          },
          "metadata": {},
          "execution_count": 11
        }
      ],
      "source": [
        "y = to_categorical(y, num_classes=vocab_size)\n",
        "y[:5]"
      ]
    },
    {
      "cell_type": "markdown",
      "metadata": {
        "id": "Kp0iS6WG_Ueb"
      },
      "source": [
        "Step 5: Creating the mode"
      ]
    },
    {
      "cell_type": "code",
      "execution_count": null,
      "metadata": {
        "id": "astH--pV_QUV"
      },
      "outputs": [],
      "source": [
        "model = Sequential()\n",
        "model.add(Embedding(vocab_size, 10, input_length=3))\n",
        "model.add(LSTM(1000, return_sequences=True))\n",
        "model.add(LSTM(1000))\n",
        "model.add(Dense(1000, activation=\"relu\"))\n",
        "model.add(Dense(vocab_size, activation=\"softmax\"))\n",
        "\n",
        "\n",
        "METRICS = [\n",
        "    'accuracy',\n",
        "    tf.keras.metrics.Precision(name='precision'),\n",
        "    tf.keras.metrics.Recall(name='recall')\n",
        "]"
      ]
    },
    {
      "cell_type": "code",
      "execution_count": null,
      "metadata": {
        "colab": {
          "base_uri": "https://localhost:8080/"
        },
        "id": "R7kZaHOt_thD",
        "outputId": "b293793f-657f-40fe-fb3e-6dbb2757d274"
      },
      "outputs": [
        {
          "output_type": "stream",
          "name": "stdout",
          "text": [
            "Model: \"sequential\"\n",
            "_________________________________________________________________\n",
            " Layer (type)                Output Shape              Param #   \n",
            "=================================================================\n",
            " embedding (Embedding)       (None, 3, 10)             72510     \n",
            "                                                                 \n",
            " lstm (LSTM)                 (None, 3, 1000)           4044000   \n",
            "                                                                 \n",
            " lstm_1 (LSTM)               (None, 1000)              8004000   \n",
            "                                                                 \n",
            " dense (Dense)               (None, 1000)              1001000   \n",
            "                                                                 \n",
            " dense_1 (Dense)             (None, 7251)              7258251   \n",
            "                                                                 \n",
            "=================================================================\n",
            "Total params: 20,379,761\n",
            "Trainable params: 20,379,761\n",
            "Non-trainable params: 0\n",
            "_________________________________________________________________\n"
          ]
        }
      ],
      "source": [
        "model.summary()"
      ]
    },
    {
      "cell_type": "markdown",
      "metadata": {
        "id": "OiB6T6t6_yYH"
      },
      "source": [
        "Step 6: Plot the mode"
      ]
    },
    {
      "cell_type": "code",
      "execution_count": null,
      "metadata": {
        "colab": {
          "base_uri": "https://localhost:8080/",
          "height": 564
        },
        "id": "zvABL3UV_xz9",
        "outputId": "b35c1264-2a58-475e-b42c-418323a6431a"
      },
      "outputs": [
        {
          "output_type": "execute_result",
          "data": {
            "image/png": "[encoded data removed]",
            "text/plain": [
              "<IPython.core.display.Image object>"
            ]
          },
          "metadata": {},
          "execution_count": 14
        }
      ],
      "source": [
        "from tensorflow import keras\n",
        "from keras.utils.vis_utils import plot_model\n",
        "\n",
        "keras.utils.plot_model(model, to_file='plot.png', show_layer_names=True)"
      ]
    },
    {
      "cell_type": "markdown",
      "metadata": {
        "id": "TM3ONe30_56E"
      },
      "source": [
        "Step 7: Train the model"
      ]
    },
    {
      "cell_type": "code",
      "execution_count": null,
      "metadata": {
        "colab": {
          "base_uri": "https://localhost:8080/"
        },
        "id": "pFUCoUKB_5Gv",
        "outputId": "b41fe6ca-b289-41f3-99a3-aa83a8b393ce"
      },
      "outputs": [
        {
          "output_type": "stream",
          "name": "stdout",
          "text": [
            "Epoch 1/50\n",
            "2051/2051 [==============================] - ETA: 0s - loss: 6.2170 - accuracy: 0.0606 - precision: 0.6905 - recall: 2.2098e-04\n",
            "Epoch 1: loss improved from inf to 6.21697, saving model to next_words.h5\n",
            "2051/2051 [==============================] - 51s 20ms/step - loss: 6.2170 - accuracy: 0.0606 - precision: 0.6905 - recall: 2.2098e-04\n",
            "Epoch 2/50\n",
            "2051/2051 [==============================] - ETA: 0s - loss: 5.6106 - accuracy: 0.1026 - precision: 0.7304 - recall: 0.0059\n",
            "Epoch 2: loss improved from 6.21697 to 5.61056, saving model to next_words.h5\n",
            "2051/2051 [==============================] - 36s 18ms/step - loss: 5.6106 - accuracy: 0.1026 - precision: 0.7304 - recall: 0.0059\n",
            "Epoch 3/50\n",
            "2051/2051 [==============================] - ETA: 0s - loss: 5.2944 - accuracy: 0.1211 - precision: 0.7319 - recall: 0.0127\n",
            "Epoch 3: loss improved from 5.61056 to 5.29435, saving model to next_words.h5\n",
            "2051/2051 [==============================] - 35s 17ms/step - loss: 5.2944 - accuracy: 0.1211 - precision: 0.7319 - recall: 0.0127\n",
            "Epoch 4/50\n",
            "2051/2051 [==============================] - ETA: 0s - loss: 5.0607 - accuracy: 0.1357 - precision: 0.7240 - recall: 0.0187\n",
            "Epoch 4: loss improved from 5.29435 to 5.06070, saving model to next_words.h5\n",
            "2051/2051 [==============================] - 35s 17ms/step - loss: 5.0607 - accuracy: 0.1357 - precision: 0.7240 - recall: 0.0187\n",
            "Epoch 5/50\n",
            "2051/2051 [==============================] - ETA: 0s - loss: 4.8522 - accuracy: 0.1474 - precision: 0.7264 - recall: 0.0251\n",
            "Epoch 5: loss improved from 5.06070 to 4.85224, saving model to next_words.h5\n",
            "2051/2051 [==============================] - 36s 17ms/step - loss: 4.8522 - accuracy: 0.1474 - precision: 0.7264 - recall: 0.0251\n",
            "Epoch 6/50\n",
            "2050/2051 [============================>.] - ETA: 0s - loss: 4.6522 - accuracy: 0.1582 - precision: 0.7367 - recall: 0.0311\n",
            "Epoch 6: loss improved from 4.85224 to 4.65213, saving model to next_words.h5\n",
            "2051/2051 [==============================] - 36s 17ms/step - loss: 4.6521 - accuracy: 0.1582 - precision: 0.7367 - recall: 0.0311\n",
            "Epoch 7/50\n",
            "2049/2051 [============================>.] - ETA: 0s - loss: 4.4538 - accuracy: 0.1677 - precision: 0.7295 - recall: 0.0377\n",
            "Epoch 7: loss improved from 4.65213 to 4.45366, saving model to next_words.h5\n",
            "2051/2051 [==============================] - 36s 17ms/step - loss: 4.4537 - accuracy: 0.1677 - precision: 0.7294 - recall: 0.0377\n",
            "Epoch 8/50\n",
            "2051/2051 [==============================] - ETA: 0s - loss: 4.2486 - accuracy: 0.1771 - precision: 0.7298 - recall: 0.0441\n",
            "Epoch 8: loss improved from 4.45366 to 4.24865, saving model to next_words.h5\n",
            "2051/2051 [==============================] - 36s 17ms/step - loss: 4.2486 - accuracy: 0.1771 - precision: 0.7298 - recall: 0.0441\n",
            "Epoch 9/50\n",
            "2051/2051 [==============================] - ETA: 0s - loss: 4.0395 - accuracy: 0.1891 - precision: 0.7411 - recall: 0.0518\n",
            "Epoch 9: loss improved from 4.24865 to 4.03946, saving model to next_words.h5\n",
            "2051/2051 [==============================] - 36s 18ms/step - loss: 4.0395 - accuracy: 0.1891 - precision: 0.7411 - recall: 0.0518\n",
            "Epoch 10/50\n",
            "2050/2051 [============================>.] - ETA: 0s - loss: 3.8238 - accuracy: 0.2032 - precision: 0.7431 - recall: 0.0605\n",
            "Epoch 10: loss improved from 4.03946 to 3.82375, saving model to next_words.h5\n",
            "2051/2051 [==============================] - 35s 17ms/step - loss: 3.8237 - accuracy: 0.2032 - precision: 0.7431 - recall: 0.0605\n",
            "Epoch 11/50\n",
            "2050/2051 [============================>.] - ETA: 0s - loss: 3.6015 - accuracy: 0.2243 - precision: 0.7445 - recall: 0.0724\n",
            "Epoch 11: loss improved from 3.82375 to 3.60157, saving model to next_words.h5\n",
            "2051/2051 [==============================] - 36s 18ms/step - loss: 3.6016 - accuracy: 0.2243 - precision: 0.7445 - recall: 0.0724\n",
            "Epoch 12/50\n",
            "2049/2051 [============================>.] - ETA: 0s - loss: 3.3787 - accuracy: 0.2520 - precision: 0.7502 - recall: 0.0893\n",
            "Epoch 12: loss improved from 3.60157 to 3.37859, saving model to next_words.h5\n",
            "2051/2051 [==============================] - 36s 17ms/step - loss: 3.3786 - accuracy: 0.2520 - precision: 0.7503 - recall: 0.0893\n",
            "Epoch 13/50\n",
            "2049/2051 [============================>.] - ETA: 0s - loss: 3.1488 - accuracy: 0.2832 - precision: 0.7619 - recall: 0.1140\n",
            "Epoch 13: loss improved from 3.37859 to 3.14873, saving model to next_words.h5\n",
            "2051/2051 [==============================] - 35s 17ms/step - loss: 3.1487 - accuracy: 0.2832 - precision: 0.7619 - recall: 0.1140\n",
            "Epoch 14/50\n",
            "2051/2051 [==============================] - ETA: 0s - loss: 2.9167 - accuracy: 0.3185 - precision: 0.7731 - recall: 0.1436\n",
            "Epoch 14: loss improved from 3.14873 to 2.91666, saving model to next_words.h5\n",
            "2051/2051 [==============================] - 35s 17ms/step - loss: 2.9167 - accuracy: 0.3185 - precision: 0.7731 - recall: 0.1436\n",
            "Epoch 15/50\n",
            "2050/2051 [============================>.] - ETA: 0s - loss: 2.6737 - accuracy: 0.3593 - precision: 0.7820 - recall: 0.1826\n",
            "Epoch 15: loss improved from 2.91666 to 2.67394, saving model to next_words.h5\n",
            "2051/2051 [==============================] - 35s 17ms/step - loss: 2.6739 - accuracy: 0.3592 - precision: 0.7819 - recall: 0.1826\n",
            "Epoch 16/50\n",
            "2048/2051 [============================>.] - ETA: 0s - loss: 2.4317 - accuracy: 0.4034 - precision: 0.7961 - recall: 0.2285\n",
            "Epoch 16: loss improved from 2.67394 to 2.43199, saving model to next_words.h5\n",
            "2051/2051 [==============================] - 35s 17ms/step - loss: 2.4320 - accuracy: 0.4033 - precision: 0.7960 - recall: 0.2284\n",
            "Epoch 17/50\n",
            "2051/2051 [==============================] - ETA: 0s - loss: 2.1962 - accuracy: 0.4503 - precision: 0.8044 - recall: 0.2792\n",
            "Epoch 17: loss improved from 2.43199 to 2.19617, saving model to next_words.h5\n",
            "2051/2051 [==============================] - 35s 17ms/step - loss: 2.1962 - accuracy: 0.4503 - precision: 0.8044 - recall: 0.2792\n",
            "Epoch 18/50\n",
            "2048/2051 [============================>.] - ETA: 0s - loss: 1.9645 - accuracy: 0.5006 - precision: 0.8210 - recall: 0.3363\n",
            "Epoch 18: loss improved from 2.19617 to 1.96485, saving model to next_words.h5\n",
            "2051/2051 [==============================] - 36s 17ms/step - loss: 1.9648 - accuracy: 0.5005 - precision: 0.8209 - recall: 0.3362\n",
            "Epoch 19/50\n",
            "2049/2051 [============================>.] - ETA: 0s - loss: 1.7506 - accuracy: 0.5466 - precision: 0.8300 - recall: 0.3917\n",
            "Epoch 19: loss improved from 1.96485 to 1.75110, saving model to next_words.h5\n",
            "2051/2051 [==============================] - 36s 17ms/step - loss: 1.7511 - accuracy: 0.5465 - precision: 0.8300 - recall: 0.3916\n",
            "Epoch 20/50\n",
            "2050/2051 [============================>.] - ETA: 0s - loss: 1.5587 - accuracy: 0.5913 - precision: 0.8410 - recall: 0.4507\n",
            "Epoch 20: loss improved from 1.75110 to 1.55867, saving model to next_words.h5\n",
            "2051/2051 [==============================] - 35s 17ms/step - loss: 1.5587 - accuracy: 0.5913 - precision: 0.8410 - recall: 0.4507\n",
            "Epoch 21/50\n",
            "2051/2051 [==============================] - ETA: 0s - loss: 1.3888 - accuracy: 0.6338 - precision: 0.8499 - recall: 0.5044\n",
            "Epoch 21: loss improved from 1.55867 to 1.38877, saving model to next_words.h5\n",
            "2051/2051 [==============================] - 35s 17ms/step - loss: 1.3888 - accuracy: 0.6338 - precision: 0.8499 - recall: 0.5044\n",
            "Epoch 22/50\n",
            "2048/2051 [============================>.] - ETA: 0s - loss: 1.2519 - accuracy: 0.6675 - precision: 0.8568 - recall: 0.5504\n",
            "Epoch 22: loss improved from 1.38877 to 1.25189, saving model to next_words.h5\n",
            "2051/2051 [==============================] - 35s 17ms/step - loss: 1.2519 - accuracy: 0.6675 - precision: 0.8568 - recall: 0.5504\n",
            "Epoch 23/50\n",
            "2051/2051 [==============================] - ETA: 0s - loss: 1.1353 - accuracy: 0.6971 - precision: 0.8620 - recall: 0.5941\n",
            "Epoch 23: loss improved from 1.25189 to 1.13532, saving model to next_words.h5\n",
            "2051/2051 [==============================] - 35s 17ms/step - loss: 1.1353 - accuracy: 0.6971 - precision: 0.8620 - recall: 0.5941\n",
            "Epoch 24/50\n",
            "2050/2051 [============================>.] - ETA: 0s - loss: 1.0367 - accuracy: 0.7241 - precision: 0.8676 - recall: 0.6322\n",
            "Epoch 24: loss improved from 1.13532 to 1.03662, saving model to next_words.h5\n",
            "2051/2051 [==============================] - 35s 17ms/step - loss: 1.0366 - accuracy: 0.7241 - precision: 0.8677 - recall: 0.6322\n",
            "Epoch 25/50\n",
            "2051/2051 [==============================] - ETA: 0s - loss: 0.9613 - accuracy: 0.7418 - precision: 0.8714 - recall: 0.6592\n",
            "Epoch 25: loss improved from 1.03662 to 0.96132, saving model to next_words.h5\n",
            "2051/2051 [==============================] - 36s 17ms/step - loss: 0.9613 - accuracy: 0.7418 - precision: 0.8714 - recall: 0.6592\n",
            "Epoch 26/50\n",
            "2048/2051 [============================>.] - ETA: 0s - loss: 0.8944 - accuracy: 0.7585 - precision: 0.8737 - recall: 0.6859\n",
            "Epoch 26: loss improved from 0.96132 to 0.89466, saving model to next_words.h5\n",
            "2051/2051 [==============================] - 35s 17ms/step - loss: 0.8947 - accuracy: 0.7584 - precision: 0.8737 - recall: 0.6858\n",
            "Epoch 27/50\n",
            "2051/2051 [==============================] - ETA: 0s - loss: 0.8445 - accuracy: 0.7703 - precision: 0.8774 - recall: 0.7056\n",
            "Epoch 27: loss improved from 0.89466 to 0.84448, saving model to next_words.h5\n",
            "2051/2051 [==============================] - 36s 17ms/step - loss: 0.8445 - accuracy: 0.7703 - precision: 0.8774 - recall: 0.7056\n",
            "Epoch 28/50\n",
            "2051/2051 [==============================] - ETA: 0s - loss: 0.8067 - accuracy: 0.7785 - precision: 0.8777 - recall: 0.7201\n",
            "Epoch 28: loss improved from 0.84448 to 0.80674, saving model to next_words.h5\n",
            "2051/2051 [==============================] - 35s 17ms/step - loss: 0.8067 - accuracy: 0.7785 - precision: 0.8777 - recall: 0.7201\n",
            "Epoch 29/50\n",
            "2050/2051 [============================>.] - ETA: 0s - loss: 0.7692 - accuracy: 0.7871 - precision: 0.8799 - recall: 0.7341\n",
            "Epoch 29: loss improved from 0.80674 to 0.76923, saving model to next_words.h5\n",
            "2051/2051 [==============================] - 36s 17ms/step - loss: 0.7692 - accuracy: 0.7871 - precision: 0.8799 - recall: 0.7341\n",
            "Epoch 30/50\n",
            "2051/2051 [==============================] - ETA: 0s - loss: 0.7416 - accuracy: 0.7923 - precision: 0.8801 - recall: 0.7431\n",
            "Epoch 30: loss improved from 0.76923 to 0.74159, saving model to next_words.h5\n",
            "2051/2051 [==============================] - 35s 17ms/step - loss: 0.7416 - accuracy: 0.7923 - precision: 0.8801 - recall: 0.7431\n",
            "Epoch 31/50\n",
            "2049/2051 [============================>.] - ETA: 0s - loss: 0.7148 - accuracy: 0.7971 - precision: 0.8803 - recall: 0.7526\n",
            "Epoch 31: loss improved from 0.74159 to 0.71498, saving model to next_words.h5\n",
            "2051/2051 [==============================] - 35s 17ms/step - loss: 0.7150 - accuracy: 0.7970 - precision: 0.8803 - recall: 0.7525\n",
            "Epoch 32/50\n",
            "2049/2051 [============================>.] - ETA: 0s - loss: 0.6936 - accuracy: 0.8007 - precision: 0.8818 - recall: 0.7594\n",
            "Epoch 32: loss improved from 0.71498 to 0.69372, saving model to next_words.h5\n",
            "2051/2051 [==============================] - 35s 17ms/step - loss: 0.6937 - accuracy: 0.8007 - precision: 0.8818 - recall: 0.7594\n",
            "Epoch 33/50\n",
            "2050/2051 [============================>.] - ETA: 0s - loss: 0.6739 - accuracy: 0.8051 - precision: 0.8835 - recall: 0.7666\n",
            "Epoch 33: loss improved from 0.69372 to 0.67405, saving model to next_words.h5\n",
            "2051/2051 [==============================] - 35s 17ms/step - loss: 0.6741 - accuracy: 0.8050 - precision: 0.8835 - recall: 0.7666\n",
            "Epoch 34/50\n",
            "2049/2051 [============================>.] - ETA: 0s - loss: 0.6587 - accuracy: 0.8069 - precision: 0.8829 - recall: 0.7710\n",
            "Epoch 34: loss improved from 0.67405 to 0.65876, saving model to next_words.h5\n",
            "2051/2051 [==============================] - 36s 17ms/step - loss: 0.6588 - accuracy: 0.8069 - precision: 0.8829 - recall: 0.7709\n",
            "Epoch 35/50\n",
            "2051/2051 [==============================] - ETA: 0s - loss: 0.6406 - accuracy: 0.8090 - precision: 0.8835 - recall: 0.7756\n",
            "Epoch 35: loss improved from 0.65876 to 0.64063, saving model to next_words.h5\n",
            "2051/2051 [==============================] - 35s 17ms/step - loss: 0.6406 - accuracy: 0.8090 - precision: 0.8835 - recall: 0.7756\n",
            "Epoch 36/50\n",
            "2048/2051 [============================>.] - ETA: 0s - loss: 0.6306 - accuracy: 0.8100 - precision: 0.8842 - recall: 0.7781\n",
            "Epoch 36: loss improved from 0.64063 to 0.63072, saving model to next_words.h5\n",
            "2051/2051 [==============================] - 35s 17ms/step - loss: 0.6307 - accuracy: 0.8100 - precision: 0.8843 - recall: 0.7781\n",
            "Epoch 37/50\n",
            "2051/2051 [==============================] - ETA: 0s - loss: 0.6157 - accuracy: 0.8130 - precision: 0.8858 - recall: 0.7827\n",
            "Epoch 37: loss improved from 0.63072 to 0.61573, saving model to next_words.h5\n",
            "2051/2051 [==============================] - 35s 17ms/step - loss: 0.6157 - accuracy: 0.8130 - precision: 0.8858 - recall: 0.7827\n",
            "Epoch 38/50\n",
            "2049/2051 [============================>.] - ETA: 0s - loss: 0.6034 - accuracy: 0.8142 - precision: 0.8865 - recall: 0.7845\n",
            "Epoch 38: loss improved from 0.61573 to 0.60359, saving model to next_words.h5\n",
            "2051/2051 [==============================] - 36s 18ms/step - loss: 0.6036 - accuracy: 0.8141 - precision: 0.8865 - recall: 0.7845\n",
            "Epoch 39/50\n",
            "2051/2051 [==============================] - ETA: 0s - loss: 0.5924 - accuracy: 0.8149 - precision: 0.8860 - recall: 0.7871\n",
            "Epoch 39: loss improved from 0.60359 to 0.59242, saving model to next_words.h5\n",
            "2051/2051 [==============================] - 36s 18ms/step - loss: 0.5924 - accuracy: 0.8149 - precision: 0.8860 - recall: 0.7871\n",
            "Epoch 40/50\n",
            "2048/2051 [============================>.] - ETA: 0s - loss: 0.5835 - accuracy: 0.8167 - precision: 0.8868 - recall: 0.7898\n",
            "Epoch 40: loss improved from 0.59242 to 0.58353, saving model to next_words.h5\n",
            "2051/2051 [==============================] - 36s 17ms/step - loss: 0.5835 - accuracy: 0.8167 - precision: 0.8868 - recall: 0.7898\n",
            "Epoch 41/50\n",
            "2049/2051 [============================>.] - ETA: 0s - loss: 0.5772 - accuracy: 0.8167 - precision: 0.8877 - recall: 0.7905\n",
            "Epoch 41: loss improved from 0.58353 to 0.57728, saving model to next_words.h5\n",
            "2051/2051 [==============================] - 36s 17ms/step - loss: 0.5773 - accuracy: 0.8167 - precision: 0.8877 - recall: 0.7905\n",
            "Epoch 42/50\n",
            "2051/2051 [==============================] - ETA: 0s - loss: 0.5674 - accuracy: 0.8172 - precision: 0.8871 - recall: 0.7924\n",
            "Epoch 42: loss improved from 0.57728 to 0.56738, saving model to next_words.h5\n",
            "2051/2051 [==============================] - 36s 18ms/step - loss: 0.5674 - accuracy: 0.8172 - precision: 0.8871 - recall: 0.7924\n",
            "Epoch 43/50\n",
            "2050/2051 [============================>.] - ETA: 0s - loss: 0.5598 - accuracy: 0.8183 - precision: 0.8876 - recall: 0.7937\n",
            "Epoch 43: loss improved from 0.56738 to 0.55979, saving model to next_words.h5\n",
            "2051/2051 [==============================] - 36s 17ms/step - loss: 0.5598 - accuracy: 0.8183 - precision: 0.8876 - recall: 0.7937\n",
            "Epoch 44/50\n",
            "2051/2051 [==============================] - ETA: 0s - loss: 0.5484 - accuracy: 0.8190 - precision: 0.8890 - recall: 0.7954\n",
            "Epoch 44: loss improved from 0.55979 to 0.54838, saving model to next_words.h5\n",
            "2051/2051 [==============================] - 36s 17ms/step - loss: 0.5484 - accuracy: 0.8190 - precision: 0.8890 - recall: 0.7954\n",
            "Epoch 45/50\n",
            "2049/2051 [============================>.] - ETA: 0s - loss: 0.5448 - accuracy: 0.8190 - precision: 0.8880 - recall: 0.7964\n",
            "Epoch 45: loss improved from 0.54838 to 0.54482, saving model to next_words.h5\n",
            "2051/2051 [==============================] - 36s 18ms/step - loss: 0.5448 - accuracy: 0.8190 - precision: 0.8881 - recall: 0.7964\n",
            "Epoch 46/50\n",
            "2049/2051 [============================>.] - ETA: 0s - loss: 0.5386 - accuracy: 0.8202 - precision: 0.8899 - recall: 0.7975\n",
            "Epoch 46: loss improved from 0.54482 to 0.53878, saving model to next_words.h5\n",
            "2051/2051 [==============================] - 36s 18ms/step - loss: 0.5388 - accuracy: 0.8202 - precision: 0.8898 - recall: 0.7974\n",
            "Epoch 47/50\n",
            "2049/2051 [============================>.] - ETA: 0s - loss: 0.5280 - accuracy: 0.8210 - precision: 0.8900 - recall: 0.7995\n",
            "Epoch 47: loss improved from 0.53878 to 0.52811, saving model to next_words.h5\n",
            "2051/2051 [==============================] - 36s 17ms/step - loss: 0.5281 - accuracy: 0.8210 - precision: 0.8900 - recall: 0.7995\n",
            "Epoch 48/50\n",
            "2050/2051 [============================>.] - ETA: 0s - loss: 0.5231 - accuracy: 0.8214 - precision: 0.8900 - recall: 0.7996\n",
            "Epoch 48: loss improved from 0.52811 to 0.52321, saving model to next_words.h5\n",
            "2051/2051 [==============================] - 35s 17ms/step - loss: 0.5232 - accuracy: 0.8214 - precision: 0.8899 - recall: 0.7996\n",
            "Epoch 49/50\n",
            "2050/2051 [============================>.] - ETA: 0s - loss: 0.5184 - accuracy: 0.8217 - precision: 0.8914 - recall: 0.8007\n",
            "Epoch 49: loss improved from 0.52321 to 0.51843, saving model to next_words.h5\n",
            "2051/2051 [==============================] - 35s 17ms/step - loss: 0.5184 - accuracy: 0.8217 - precision: 0.8914 - recall: 0.8007\n",
            "Epoch 50/50\n",
            "2050/2051 [============================>.] - ETA: 0s - loss: 0.5147 - accuracy: 0.8218 - precision: 0.8905 - recall: 0.8013\n",
            "Epoch 50: loss improved from 0.51843 to 0.51470, saving model to next_words.h5\n",
            "2051/2051 [==============================] - 35s 17ms/step - loss: 0.5147 - accuracy: 0.8218 - precision: 0.8905 - recall: 0.8013\n"
          ]
        }
      ],
      "source": [
        "from tensorflow.keras.callbacks import ModelCheckpoint\n",
        "\n",
        "checkpoint = ModelCheckpoint(\"next_words.h5\", monitor='loss', verbose=1, save_best_only=True)\n",
        "model.compile(loss=\"categorical_crossentropy\", optimizer=Adam(learning_rate=0.001),metrics=METRICS)\n",
        "r=model.fit(X, y, epochs=50, batch_size=64,callbacks=[checkpoint])"
      ]
    },
    {
      "cell_type": "markdown",
      "metadata": {
        "id": "8yyvfStDDAHr"
      },
      "source": [
        "Model Testing/ Evaluation"
      ]
    },
    {
      "cell_type": "code",
      "execution_count": null,
      "metadata": {
        "id": "ROfapyFazI1_"
      },
      "outputs": [],
      "source": [
        "import matplotlib.pyplot as plt"
      ]
    },
    {
      "cell_type": "markdown",
      "metadata": {
        "id": "YmAX2cXqDaIh"
      },
      "source": [
        "Recall vs. Precision Thresholding"
      ]
    },
    {
      "cell_type": "code",
      "execution_count": null,
      "metadata": {
        "colab": {
          "base_uri": "https://localhost:8080/",
          "height": 718
        },
        "id": "FX8hgVXtBkVN",
        "outputId": "82f6b77b-46ca-4815-b773-9b036d35404c"
      },
      "outputs": [
        {
          "output_type": "display_data",
          "data": {
            "text/plain": [
              "<Figure size 1400x800 with 1 Axes>"
            ],
            "image/png": "[encoded data removed]"
          },
          "metadata": {}
        }
      ],
      "source": [
        "plt.figure(figsize=(14, 8))\n",
        "plt.plot(r.history['precision'], linewidth=2, label='precision')\n",
        "plt.plot(r.history['recall'], linewidth=2, label='recall')\n",
        "plt.legend(loc='upper right')\n",
        "plt.title('Model loss')\n",
        "plt.ylabel('Precision')\n",
        "plt.xlabel('Recall')\n",
        "#plt.ylim(ymin=0.70,ymax=1)\n",
        "plt.show()\n"
      ]
    },
    {
      "cell_type": "markdown",
      "metadata": {
        "id": "2bQkQ3-wDD5_"
      },
      "source": [
        "Model Loss"
      ]
    },
    {
      "cell_type": "code",
      "execution_count": null,
      "metadata": {
        "colab": {
          "base_uri": "https://localhost:8080/",
          "height": 718
        },
        "id": "2zQkh4XCC_zG",
        "outputId": "4ae7face-b97c-4b2f-a146-854012d7b77d"
      },
      "outputs": [
        {
          "output_type": "display_data",
          "data": {
            "text/plain": [
              "<Figure size 1400x800 with 1 Axes>"
            ],
            "image/png": "[encoded data removed]"
          },
          "metadata": {}
        }
      ],
      "source": [
        "plt.figure(figsize=(14, 8))\n",
        "plt.plot(r.history['loss'], linewidth=2, label='Train loss')\n",
        "plt.legend(loc='upper right')\n",
        "plt.title('Model loss')\n",
        "plt.ylabel('Loss')\n",
        "plt.xlabel('Epoch')\n",
        "plt.show()"
      ]
    },
    {
      "cell_type": "code",
      "execution_count": null,
      "metadata": {
        "colab": {
          "base_uri": "https://localhost:8080/",
          "height": 718
        },
        "id": "HQhWQx5XBDMv",
        "outputId": "6b5a4747-200b-4e11-c18a-ca7bcbbc7512"
      },
      "outputs": [
        {
          "output_type": "display_data",
          "data": {
            "text/plain": [
              "<Figure size 1400x800 with 1 Axes>"
            ],
            "image/png": "[encoded data removed]"
          },
          "metadata": {}
        }
      ],
      "source": [
        "plt.figure(figsize=(14, 8))\n",
        "plt.plot(r.history['accuracy'], linewidth=2, label='Train')\n",
        "plt.legend(loc='upper right')\n",
        "plt.title('Model Accuracy')\n",
        "plt.ylabel('accuracy')\n",
        "plt.xlabel('Epoch')\n",
        "plt.show()"
      ]
    },
    {
      "cell_type": "markdown",
      "metadata": {
        "id": "zlQ7sgqyCsuX"
      },
      "source": [
        "Step 8: Let's predict"
      ]
    },
    {
      "cell_type": "code",
      "execution_count": null,
      "metadata": {
        "id": "uWU0rwVc__xg"
      },
      "outputs": [],
      "source": [
        "from tensorflow.keras.models import load_model\n",
        "import numpy as np\n",
        "import pickle\n",
        "\n",
        "# Load the model and tokenizer\n",
        "model = load_model('next_words.h5')\n",
        "tokenizer = pickle.load(open('token.pkl', 'rb'))\n",
        "\n",
        "def Predict_Next_Words(model, tokenizer, text):\n",
        "\n",
        "  sequence = tokenizer.texts_to_sequences([text])\n",
        "  sequence = np.array(sequence)\n",
        "  preds = np.argmax(model.predict(sequence))\n",
        "  predicted_word = \"\"\n",
        "\n",
        "  for key, value in tokenizer.word_index.items():\n",
        "      if value == preds:\n",
        "          predicted_word = key\n",
        "          break\n",
        "\n",
        "  print(predicted_word)\n",
        "  return predicted_word"
      ]
    },
    {
      "cell_type": "code",
      "execution_count": null,
      "metadata": {
        "colab": {
          "base_uri": "https://localhost:8080/"
        },
        "id": "4sKDBNjTCzhv",
        "outputId": "c604a52b-3b1c-417a-b2ab-88d9f04bcff4"
      },
      "outputs": [
        {
          "output_type": "stream",
          "name": "stdout",
          "text": [
            "Enter your line: 1\n",
            "['1']\n",
            "1/1 [==============================] - 0s 19ms/step\n",
            "e\n",
            "Enter your line: 2\n",
            "['2']\n",
            "1/1 [==============================] - 0s 21ms/step\n",
            "they\n",
            "Enter your line: 4\n",
            "['4']\n",
            "1/1 [==============================] - 0s 20ms/step\n",
            "and\n",
            "Enter your line: 5\n",
            "['5']\n",
            "1/1 [==============================] - 0s 20ms/step\n",
            "darcy\n",
            "Enter your line: 0\n",
            "Execution completed.....\n"
          ]
        }
      ],
      "source": [
        "while(True):\n",
        "  text = input(\"Enter your line: \")\n",
        "\n",
        "  if text == \"0\":\n",
        "      print(\"Execution completed.....\")\n",
        "      break\n",
        "\n",
        "  else:\n",
        "      try:\n",
        "          text = text.split(\" \")\n",
        "          text = text[-3:]\n",
        "          print(text)\n",
        "\n",
        "          Predict_Next_Words(model, tokenizer, text)\n",
        "\n",
        "      except Exception as e:\n",
        "        print(\"Error occurred: \",e)\n",
        "        continue"
      ]
    }
  ],
  "metadata": {
    "accelerator": "GPU",
    "colab": {
      "provenance": []
    },
    "gpuClass": "standard",
    "kernelspec": {
      "display_name": "Python 3",
      "name": "python3"
    },
    "language_info": {
      "name": "python"
    }
  },
  "nbformat": 4,
  "nbformat_minor": 0
}