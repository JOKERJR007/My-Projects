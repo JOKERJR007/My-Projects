{
  "nbformat": 4,
  "nbformat_minor": 0,
  "metadata": {
    "colab": {
      "provenance": []
    },
    "kernelspec": {
      "name": "python3",
      "display_name": "Python 3"
    },
    "language_info": {
      "name": "python"
    },
    "accelerator": "GPU",
    "gpuClass": "standard"
  },
  "cells": [
    {
      "cell_type": "markdown",
      "source": [
        "Name: JOEL RAJU\n",
        "\n",
        "Batch: R1\n",
        "\n",
        "Date: 07-03-2023\n",
        "\n",
        "Experiment Name: 3.2. Text Auto Completion\n",
        "\n",
        "Experiment Description: The experiment aims at to complete text using a character-based RNN."
      ],
      "metadata": {
        "id": "bwokZyAG5JNJ"
      }
    },
    {
      "cell_type": "code",
      "execution_count": null,
      "metadata": {
        "id": "9DSgOObxZuy0"
      },
      "outputs": [],
      "source": [
        "import tensorflow as tf\n",
        "from tensorflow import keras\n",
        "import numpy as np\n",
        "from tensorflow.keras.callbacks import EarlyStopping"
      ]
    },
    {
      "cell_type": "markdown",
      "source": [
        "You can create a data.txt file and put any text you want in it, or you can download a text file from the internet. For example, you can download the text of \"The Adventures of Sherlock Holmes\" by Arthur Conan Doyle from Project Gutenberg (https://www.gutenberg.org/ebooks/1661) and save it as data.txt:"
      ],
      "metadata": {
        "id": "fF_MthIX3tXK"
      }
    },
    {
      "cell_type": "code",
      "source": [
        "import urllib.request\n",
        "\n",
        "url = 'https://www.gutenberg.org/files/1661/1661-0.txt'\n",
        "urllib.request.urlretrieve(url, 'data.txt')"
      ],
      "metadata": {
        "id": "pQY52aWe3xCL",
        "colab": {
          "base_uri": "https://localhost:8080/"
        },
        "outputId": "898e3f78-e5f7-4c1c-adc7-70c9bf7d5f0e"
      },
      "execution_count": null,
      "outputs": [
        {
          "output_type": "execute_result",
          "data": {
            "text/plain": [
              "('data.txt', <http.client.HTTPMessage at 0x7f0aed9c0b20>)"
            ]
          },
          "metadata": {},
          "execution_count": 2
        }
      ]
    },
    {
      "cell_type": "markdown",
      "source": [
        "This code downloads the text file from the given URL and saves it as data.txt in the current directory. You can then use this file as input to the text auto-completion code."
      ],
      "metadata": {
        "id": "AfToGh1T34EA"
      }
    },
    {
      "cell_type": "code",
      "source": [
        "# Load text data\n",
        "with open('data.txt', 'r') as f:\n",
        "    text = f.read()"
      ],
      "metadata": {
        "id": "KqBM2-0BZzQj"
      },
      "execution_count": null,
      "outputs": []
    },
    {
      "cell_type": "code",
      "source": [
        "# Define parameters\n",
        "max_len = 50\n",
        "step = 3\n",
        "batch_size = 128\n",
        "epochs = 10\n",
        "num_chars = len(set(text))\n",
        "char_indices = dict((c, i) for i, c in enumerate(set(text)))"
      ],
      "metadata": {
        "id": "ym6346Qj5Ffr"
      },
      "execution_count": null,
      "outputs": []
    },
    {
      "cell_type": "markdown",
      "source": [
        "max_len: The maximum length of each input sequence. In this code, we use a sliding window of length max_len over the text to generate input and output sequences.\n",
        "\n",
        "step: The step size of the sliding window. In this code, we move the window by step characters for each new input sequence.\n",
        "\n",
        "num_chars: The number of unique characters in the text. This is used to determine the size of the input and output layers of the model.\n",
        "\n",
        "char_indices: A dictionary that maps each unique character in the text to a unique integer index. This is used to convert the input and output sequences to one-hot encoded vectors, which can be fed into the model. The dictionary is created using the enumerate and set functions.\n",
        "\n",
        "One-hot encoding is a way of representing categorical data as a binary vector, where each element in the vector corresponds to a unique category. In the context of text processing, we can use one-hot encoding to convert a sequence of characters into a sequence of vectors that can be fed into a neural network.\n",
        "\n",
        "For example, suppose we have the following sequence of characters: \"hello\". We can one-hot encode this sequence as follows:\n",
        "\n",
        "Determine the unique set of characters in the sequence: \"h\", \"e\", \"l\", \"o\".\n",
        "Assign a unique integer index to each character: \"h\" = 0, \"e\" = 1, \"l\" = 2, \"o\" = 3.\n",
        "Create an empty binary vector with length equal to the number of unique characters: [0, 0, 0, 0].\n",
        "For each character in the sequence, set the corresponding element in the vector to 1: [1, 0, 0, 0], [0, 1, 0, 0], [0, 0, 1, 0], [0, 0, 0, 1], [0, 0, 0, 1]"
      ],
      "metadata": {
        "id": "P0Np4lKZ6c18"
      }
    },
    {
      "cell_type": "markdown",
      "source": [
        "Create empty lists 'sentences'and 'next_chars'.\n",
        "\n",
        "Use a sliding window of length 'max_len' to extract input sequences from the text, with a step size of step. For each input sequence, append the next character in the text to next_chars, which will be used as the target output for the model.\n",
        "\n",
        "Convert the input and output sequences to one-hot encoded vectors using the 'char_indices' dictionary. The input matrix x has shape (num_sequences, max_len, num_chars), where num_sequences is the number of input sequences, max_len is the length of each input sequence, and num_chars is the number of unique characters in the text. The output matrix y has shape (num_sequences, num_chars).\n",
        "\n",
        "Set the value of each element in x and y to True if the corresponding character is present in the input sequence or target output, respectively. This creates a one-hot encoded matrix for each sequence.\n",
        "\n",
        "Note that we use numpy arrays to store the one-hot encoded data, which allows us to efficiently perform matrix operations during training. This is important for deep learning models, which often require large amounts of data and computation to train effectively.\n"
      ],
      "metadata": {
        "id": "LMAojBC__rZP"
      }
    },
    {
      "cell_type": "code",
      "source": [
        "# Generate input and output sequences\n",
        "sentences = []\n",
        "next_chars = []\n",
        "for i in range(0, len(text) - max_len, step):\n",
        "    sentences.append(text[i:i + max_len])\n",
        "    next_chars.append(text[i + max_len])\n",
        "x = np.zeros((len(sentences), max_len, num_chars), dtype=np.bool)\n",
        "y = np.zeros((len(sentences), num_chars), dtype=np.bool)\n",
        "for i, sentence in enumerate(sentences):\n",
        "    for t, char in enumerate(sentence):\n",
        "        x[i, t, char_indices[char]] = 1\n",
        "    y[i, char_indices[next_chars[i]]] = 1"
      ],
      "metadata": {
        "id": "zWj_pxEU5fOy",
        "colab": {
          "base_uri": "https://localhost:8080/"
        },
        "outputId": "8a8b2f97-d016-4292-8475-53c4a1a5bdfb"
      },
      "execution_count": null,
      "outputs": [
        {
          "output_type": "stream",
          "name": "stderr",
          "text": [
            "<ipython-input-5-12af54401f9f>:7: DeprecationWarning: `np.bool` is a deprecated alias for the builtin `bool`. To silence this warning, use `bool` by itself. Doing this will not modify any behavior and is safe. If you specifically wanted the numpy scalar type, use `np.bool_` here.\n",
            "Deprecated in NumPy 1.20; for more details and guidance: https://numpy.org/devdocs/release/1.20.0-notes.html#deprecations\n",
            "  x = np.zeros((len(sentences), max_len, num_chars), dtype=np.bool)\n",
            "<ipython-input-5-12af54401f9f>:8: DeprecationWarning: `np.bool` is a deprecated alias for the builtin `bool`. To silence this warning, use `bool` by itself. Doing this will not modify any behavior and is safe. If you specifically wanted the numpy scalar type, use `np.bool_` here.\n",
            "Deprecated in NumPy 1.20; for more details and guidance: https://numpy.org/devdocs/release/1.20.0-notes.html#deprecations\n",
            "  y = np.zeros((len(sentences), num_chars), dtype=np.bool)\n"
          ]
        }
      ]
    },
    {
      "cell_type": "code",
      "source": [
        "# Build model\n",
        "model = keras.Sequential([\n",
        "    keras.layers.LSTM(128, input_shape=(max_len, num_chars)),\n",
        "    keras.layers.Dense(num_chars, activation='softmax')\n",
        "])\n",
        "\n",
        "METRICS = [\n",
        "    'accuracy',\n",
        "    tf.keras.metrics.Precision(name='precision'),\n",
        "    tf.keras.metrics.Recall(name='recall')\n",
        "]"
      ],
      "metadata": {
        "id": "_ZFkGzjlAqj5"
      },
      "execution_count": null,
      "outputs": []
    },
    {
      "cell_type": "code",
      "source": [
        "model.compile(optimizer='adam', loss='categorical_crossentropy', metrics=METRICS)"
      ],
      "metadata": {
        "id": "y3Qy3nD7A71_"
      },
      "execution_count": null,
      "outputs": []
    },
    {
      "cell_type": "code",
      "source": [
        "model.summary()"
      ],
      "metadata": {
        "colab": {
          "base_uri": "https://localhost:8080/"
        },
        "id": "IKFaiFpVlUWa",
        "outputId": "25bc5139-34dd-48dc-d1d7-7c6092bf57d9"
      },
      "execution_count": null,
      "outputs": [
        {
          "output_type": "stream",
          "name": "stdout",
          "text": [
            "Model: \"sequential_1\"\n",
            "_________________________________________________________________\n",
            " Layer (type)                Output Shape              Param #   \n",
            "=================================================================\n",
            " lstm_1 (LSTM)               (None, 128)               116224    \n",
            "                                                                 \n",
            " dense_1 (Dense)             (None, 98)                12642     \n",
            "                                                                 \n",
            "=================================================================\n",
            "Total params: 128,866\n",
            "Trainable params: 128,866\n",
            "Non-trainable params: 0\n",
            "_________________________________________________________________\n"
          ]
        }
      ]
    },
    {
      "cell_type": "code",
      "source": [
        "early_stop = EarlyStopping(monitor='val_loss', patience=10)"
      ],
      "metadata": {
        "id": "61itxH2wl-sE"
      },
      "execution_count": null,
      "outputs": []
    },
    {
      "cell_type": "code",
      "source": [
        "# Train model\n",
        "history=model.fit(x, y, batch_size=batch_size, validation_data=(x, y), callbacks=[early_stop], epochs=30)"
      ],
      "metadata": {
        "id": "t32jHiWFA-ia",
        "colab": {
          "base_uri": "https://localhost:8080/"
        },
        "outputId": "253ca8aa-ad4d-48f3-a053-00b224a1a25d"
      },
      "execution_count": null,
      "outputs": [
        {
          "output_type": "stream",
          "name": "stdout",
          "text": [
            "Epoch 1/30\n",
            "1515/1515 [==============================] - 19s 13ms/step - loss: 1.8745 - accuracy: 0.4516 - precision: 0.7412 - recall: 0.2634 - val_loss: 1.8437 - val_accuracy: 0.4598 - val_precision: 0.7384 - val_recall: 0.2779\n",
            "Epoch 2/30\n",
            "1515/1515 [==============================] - 16s 11ms/step - loss: 1.8287 - accuracy: 0.4635 - precision: 0.7460 - recall: 0.2780 - val_loss: 1.7945 - val_accuracy: 0.4734 - val_precision: 0.7569 - val_recall: 0.2823\n",
            "Epoch 3/30\n",
            "1515/1515 [==============================] - 16s 11ms/step - loss: 1.7832 - accuracy: 0.4751 - precision: 0.7522 - recall: 0.2918 - val_loss: 1.7512 - val_accuracy: 0.4851 - val_precision: 0.7700 - val_recall: 0.2927\n",
            "Epoch 4/30\n",
            "1515/1515 [==============================] - 21s 14ms/step - loss: 1.7408 - accuracy: 0.4858 - precision: 0.7573 - recall: 0.3074 - val_loss: 1.7027 - val_accuracy: 0.4978 - val_precision: 0.7642 - val_recall: 0.3182\n",
            "Epoch 5/30\n",
            "1515/1515 [==============================] - 16s 11ms/step - loss: 1.6997 - accuracy: 0.4975 - precision: 0.7636 - recall: 0.3238 - val_loss: 1.6648 - val_accuracy: 0.5065 - val_precision: 0.7747 - val_recall: 0.3285\n",
            "Epoch 6/30\n",
            "1515/1515 [==============================] - 17s 11ms/step - loss: 1.6622 - accuracy: 0.5072 - precision: 0.7685 - recall: 0.3371 - val_loss: 1.6287 - val_accuracy: 0.5164 - val_precision: 0.7749 - val_recall: 0.3469\n",
            "Epoch 7/30\n",
            "1515/1515 [==============================] - 21s 14ms/step - loss: 1.6283 - accuracy: 0.5171 - precision: 0.7743 - recall: 0.3500 - val_loss: 1.6036 - val_accuracy: 0.5220 - val_precision: 0.7763 - val_recall: 0.3603\n",
            "Epoch 8/30\n",
            "1515/1515 [==============================] - 16s 11ms/step - loss: 1.5993 - accuracy: 0.5250 - precision: 0.7775 - recall: 0.3609 - val_loss: 1.5675 - val_accuracy: 0.5346 - val_precision: 0.7927 - val_recall: 0.3656\n",
            "Epoch 9/30\n",
            "1515/1515 [==============================] - 16s 10ms/step - loss: 1.5736 - accuracy: 0.5328 - precision: 0.7828 - recall: 0.3723 - val_loss: 1.5484 - val_accuracy: 0.5408 - val_precision: 0.7993 - val_recall: 0.3718\n",
            "Epoch 10/30\n",
            "1515/1515 [==============================] - 21s 14ms/step - loss: 1.5511 - accuracy: 0.5396 - precision: 0.7862 - recall: 0.3807 - val_loss: 1.5223 - val_accuracy: 0.5462 - val_precision: 0.7894 - val_recall: 0.3893\n",
            "Epoch 11/30\n",
            "1515/1515 [==============================] - 22s 14ms/step - loss: 1.5308 - accuracy: 0.5444 - precision: 0.7883 - recall: 0.3887 - val_loss: 1.5048 - val_accuracy: 0.5520 - val_precision: 0.7907 - val_recall: 0.3975\n",
            "Epoch 12/30\n",
            "1515/1515 [==============================] - 16s 10ms/step - loss: 1.5127 - accuracy: 0.5493 - precision: 0.7894 - recall: 0.3965 - val_loss: 1.4829 - val_accuracy: 0.5584 - val_precision: 0.7971 - val_recall: 0.4044\n",
            "Epoch 13/30\n",
            "1515/1515 [==============================] - 17s 11ms/step - loss: 1.4948 - accuracy: 0.5545 - precision: 0.7928 - recall: 0.4030 - val_loss: 1.4700 - val_accuracy: 0.5596 - val_precision: 0.7953 - val_recall: 0.4087\n",
            "Epoch 14/30\n",
            "1515/1515 [==============================] - 21s 14ms/step - loss: 1.4790 - accuracy: 0.5588 - precision: 0.7941 - recall: 0.4097 - val_loss: 1.4560 - val_accuracy: 0.5651 - val_precision: 0.7950 - val_recall: 0.4199\n",
            "Epoch 15/30\n",
            "1515/1515 [==============================] - 21s 14ms/step - loss: 1.4645 - accuracy: 0.5628 - precision: 0.7961 - recall: 0.4156 - val_loss: 1.4383 - val_accuracy: 0.5703 - val_precision: 0.8091 - val_recall: 0.4170\n",
            "Epoch 16/30\n",
            "1515/1515 [==============================] - 16s 11ms/step - loss: 1.4501 - accuracy: 0.5662 - precision: 0.7984 - recall: 0.4211 - val_loss: 1.4259 - val_accuracy: 0.5737 - val_precision: 0.8130 - val_recall: 0.4181\n",
            "Epoch 17/30\n",
            "1515/1515 [==============================] - 21s 14ms/step - loss: 1.4375 - accuracy: 0.5702 - precision: 0.7989 - recall: 0.4261 - val_loss: 1.4163 - val_accuracy: 0.5768 - val_precision: 0.8001 - val_recall: 0.4350\n",
            "Epoch 18/30\n",
            "1515/1515 [==============================] - 21s 14ms/step - loss: 1.4251 - accuracy: 0.5723 - precision: 0.8003 - recall: 0.4306 - val_loss: 1.4069 - val_accuracy: 0.5783 - val_precision: 0.8036 - val_recall: 0.4350\n",
            "Epoch 19/30\n",
            "1515/1515 [==============================] - 20s 13ms/step - loss: 1.4131 - accuracy: 0.5764 - precision: 0.8027 - recall: 0.4353 - val_loss: 1.3870 - val_accuracy: 0.5826 - val_precision: 0.8080 - val_recall: 0.4422\n",
            "Epoch 20/30\n",
            "1515/1515 [==============================] - 22s 14ms/step - loss: 1.4023 - accuracy: 0.5792 - precision: 0.8041 - recall: 0.4392 - val_loss: 1.3732 - val_accuracy: 0.5884 - val_precision: 0.8161 - val_recall: 0.4432\n",
            "Epoch 21/30\n",
            "1515/1515 [==============================] - 16s 11ms/step - loss: 1.3922 - accuracy: 0.5819 - precision: 0.8053 - recall: 0.4423 - val_loss: 1.3682 - val_accuracy: 0.5877 - val_precision: 0.8127 - val_recall: 0.4474\n",
            "Epoch 22/30\n",
            "1515/1515 [==============================] - 22s 14ms/step - loss: 1.3844 - accuracy: 0.5838 - precision: 0.8055 - recall: 0.4454 - val_loss: 1.3553 - val_accuracy: 0.5917 - val_precision: 0.8145 - val_recall: 0.4521\n",
            "Epoch 23/30\n",
            "1515/1515 [==============================] - 16s 11ms/step - loss: 1.3755 - accuracy: 0.5854 - precision: 0.8059 - recall: 0.4497 - val_loss: 1.3522 - val_accuracy: 0.5925 - val_precision: 0.8140 - val_recall: 0.4543\n",
            "Epoch 24/30\n",
            "1515/1515 [==============================] - 21s 14ms/step - loss: 1.3670 - accuracy: 0.5881 - precision: 0.8078 - recall: 0.4519 - val_loss: 1.3451 - val_accuracy: 0.5947 - val_precision: 0.8130 - val_recall: 0.4584\n",
            "Epoch 25/30\n",
            "1515/1515 [==============================] - 16s 11ms/step - loss: 1.3584 - accuracy: 0.5902 - precision: 0.8089 - recall: 0.4552 - val_loss: 1.3344 - val_accuracy: 0.5971 - val_precision: 0.8179 - val_recall: 0.4593\n",
            "Epoch 26/30\n",
            "1515/1515 [==============================] - 21s 14ms/step - loss: 1.3501 - accuracy: 0.5926 - precision: 0.8094 - recall: 0.4585 - val_loss: 1.3221 - val_accuracy: 0.6018 - val_precision: 0.8184 - val_recall: 0.4651\n",
            "Epoch 27/30\n",
            "1515/1515 [==============================] - 17s 11ms/step - loss: 1.3434 - accuracy: 0.5942 - precision: 0.8102 - recall: 0.4606 - val_loss: 1.3131 - val_accuracy: 0.6031 - val_precision: 0.8201 - val_recall: 0.4675\n",
            "Epoch 28/30\n",
            "1515/1515 [==============================] - 21s 14ms/step - loss: 1.3316 - accuracy: 0.5984 - precision: 0.8131 - recall: 0.4653 - val_loss: 1.3126 - val_accuracy: 0.6039 - val_precision: 0.8277 - val_recall: 0.4623\n",
            "Epoch 29/30\n",
            "1515/1515 [==============================] - 17s 11ms/step - loss: 1.3259 - accuracy: 0.5990 - precision: 0.8137 - recall: 0.4673 - val_loss: 1.3041 - val_accuracy: 0.6062 - val_precision: 0.8214 - val_recall: 0.4692\n",
            "Epoch 30/30\n",
            "1515/1515 [==============================] - 16s 11ms/step - loss: 1.3564 - accuracy: 0.5950 - precision: 0.8081 - recall: 0.4623 - val_loss: 1.3266 - val_accuracy: 0.5997 - val_precision: 0.8202 - val_recall: 0.4597\n"
          ]
        }
      ]
    },
    {
      "cell_type": "markdown",
      "source": [
        "Model Evaluation"
      ],
      "metadata": {
        "id": "IBzwg2ICw_5R"
      }
    },
    {
      "cell_type": "code",
      "source": [
        "plt.figure(figsize=(12, 16))\n",
        "\n",
        "plt.subplot(4, 2, 1)\n",
        "plt.plot(history.history['loss'], label='Loss')\n",
        "plt.plot(history.history['val_loss'], label='val_Loss')\n",
        "plt.title('Loss Function Evolution')\n",
        "plt.legend()\n",
        "\n",
        "plt.subplot(4, 2, 2)\n",
        "plt.plot(history.history['accuracy'], label='accuracy')\n",
        "plt.plot(history.history['val_accuracy'], label='val_accuracy')\n",
        "plt.title('Accuracy Function Evolution')\n",
        "plt.legend()\n",
        "\n",
        "plt.subplot(4, 2, 3)\n",
        "plt.plot(history.history['precision'], label='precision')\n",
        "plt.plot(history.history['val_precision'], label='val_precision')\n",
        "plt.title('Precision Function Evolution')\n",
        "plt.legend()\n",
        "\n",
        "plt.subplot(4, 2, 4)\n",
        "plt.plot(history.history['recall'], label='recall')\n",
        "plt.plot(history.history['val_recall'], label='val_recall')\n",
        "plt.title('Recall Function Evolution')\n",
        "plt.legend()"
      ],
      "metadata": {
        "colab": {
          "base_uri": "https://localhost:8080/",
          "height": 497
        },
        "id": "yufYnpbpw-Yp",
        "outputId": "7f24314c-ef6d-4bb4-d89a-b87b5af5648e"
      },
      "execution_count": null,
      "outputs": [
        {
          "output_type": "execute_result",
          "data": {
            "text/plain": [
              "<matplotlib.legend.Legend at 0x7f098e54bd60>"
            ]
          },
          "metadata": {},
          "execution_count": 41
        },
        {
          "output_type": "display_data",
          "data": {
            "text/plain": [
              "<Figure size 864x1152 with 4 Axes>"
            ],
            "image/png": "[encoded data removed]"
          },
          "metadata": {
            "needs_background": "light"
          }
        }
      ]
    },
    {
      "cell_type": "code",
      "source": [
        "# Generate text\n",
        "def generate_text(model, seed_text, max_len, temperature=1.0):\n",
        "    generated_text = seed_text\n",
        "    for i in range(max_len):\n",
        "        x_pred = np.zeros((1, max_len, num_chars))\n",
        "        for t, char in enumerate(generated_text[-max_len:]):\n",
        "            x_pred[0, t, char_indices[char]] = 1\n",
        "        predictions = model.predict(x_pred)[0]\n",
        "        predictions = np.log(predictions) / temperature\n",
        "        predictions = np.exp(predictions) / np.sum(np.exp(predictions))\n",
        "        next_char = np.random.choice(list(char_indices.keys()), p=predictions)\n",
        "        generated_text += next_char\n",
        "    return generated_text"
      ],
      "metadata": {
        "id": "edS2rJm-BDVl"
      },
      "execution_count": null,
      "outputs": []
    },
    {
      "cell_type": "markdown",
      "source": [
        "This code block defines a function generate_text that can be used to generate new text using a trained text auto-completion model. Here's how it works:\n",
        "\n",
        "Initialize the generated text with the seed_text.\n",
        "\n",
        "For max_len iterations, do the following:\n",
        "\n",
        "Create a new input vector x_pred by one-hot encoding the last max_len characters of the generated text.\n",
        "\n",
        "Use the model to predict the probabilities of the next character, given the input vector.\n",
        "\n",
        "Apply a temperature scaling parameter to the predicted probabilities, which controls the \"creativity\" of the generated text. Higher values of temperature will result in more diverse and unpredictable text, while lower values will result in more predictable text.\n",
        "\n",
        "Sample the next character from the probability distribution using np.random.choice.\n",
        "\n",
        "Append the sampled character to the generated text.\n",
        "\n",
        "Return the generated text.\n",
        "\n",
        "Note that the generate_text function assumes that the num_chars and char_indices variables have already been defined, which should be the case if the training data was prepared using the code block in the previous answer. The temperature parameter is optional and defaults to 1.0, but it can be adjusted to control the diversity of the generated text."
      ],
      "metadata": {
        "id": "YuQE8LaBEiis"
      }
    },
    {
      "cell_type": "code",
      "source": [
        "# Test model\n",
        "seed_text = 'The quick brown fox jumps over the lazy dog'\n",
        "generated_text = generate_text(model, seed_text, 20)\n",
        "print(generated_text)"
      ],
      "metadata": {
        "id": "AUUQN9uaIpNn",
        "colab": {
          "base_uri": "https://localhost:8080/"
        },
        "outputId": "1dbb7aa4-a0a3-41bf-9ef7-35679b24629e"
      },
      "execution_count": null,
      "outputs": [
        {
          "output_type": "stream",
          "name": "stdout",
          "text": [
            "1/1 [==============================] - 0s 30ms/step\n",
            "1/1 [==============================] - 0s 26ms/step\n",
            "1/1 [==============================] - 0s 29ms/step\n",
            "1/1 [==============================] - 0s 25ms/step\n",
            "1/1 [==============================] - 0s 23ms/step\n",
            "1/1 [==============================] - 0s 24ms/step\n",
            "1/1 [==============================] - 0s 25ms/step\n",
            "1/1 [==============================] - 0s 29ms/step\n",
            "1/1 [==============================] - 0s 32ms/step\n",
            "1/1 [==============================] - 0s 28ms/step\n",
            "1/1 [==============================] - 0s 29ms/step\n",
            "1/1 [==============================] - 0s 24ms/step\n",
            "1/1 [==============================] - 0s 34ms/step\n",
            "1/1 [==============================] - 0s 27ms/step\n",
            "1/1 [==============================] - 0s 26ms/step\n",
            "1/1 [==============================] - 0s 25ms/step\n",
            "1/1 [==============================] - 0s 26ms/step\n",
            "1/1 [==============================] - 0s 28ms/step\n",
            "1/1 [==============================] - 0s 25ms/step\n",
            "1/1 [==============================] - 0s 27ms/step\n",
            "The quick brown fox jumps over the lazy dogled acour of say whi\n"
          ]
        }
      ]
    }
  ]
}